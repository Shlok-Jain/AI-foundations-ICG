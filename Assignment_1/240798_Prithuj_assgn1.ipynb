{
 "cells": [
  {
   "cell_type": "markdown",
   "metadata": {
    "id": "3WgQaGKq4RG2"
   },
   "source": [
    "# Linear and Logistic Regression\n",
    "- **100 points**\n",
    "\n",
    "### Instructions\n",
    "- you cannot use any other library.Write the code from scratch.\n",
    "- You're free to add any number of methods within each class.\n",
    "- You may also add any number of additional code blocks that you deem necessary.\n",
    "- link for the datasets - https://drive.google.com/drive/folders/1MXmIChMxodGbEpowyVJBFLdvaDpj23gd?usp=sharing\n"
   ]
  },
  {
   "cell_type": "markdown",
   "metadata": {
    "id": "JR9X7Smj4RG3"
   },
   "source": [
    "## Question 1 (50 points)\n",
    "\n",
    "## Linear Regression\n",
    "\n",
    "In this section, we'll implement a linear regression model that can learn to predict a target/dependent variable based on multiple independent variables. We'll be using gradient descent to train the model."
   ]
  },
  {
   "cell_type": "code",
   "execution_count": 1,
   "metadata": {
    "id": "Qdsy9_mV4RG4"
   },
   "outputs": [],
   "source": [
    "# Importing Libraries\n",
    "import time\n",
    "import math\n",
    "import numpy as np\n",
    "import pandas as pd\n",
    "import matplotlib.pyplot as plt\n",
    "%matplotlib inline"
   ]
  },
  {
   "cell_type": "markdown",
   "metadata": {
    "id": "RFCcSgtV4RG5"
   },
   "source": [
    "### Data Preparation.\n",
    "To keep things simple, first we'll use a toy dataset to test our implementation. This dataset contains the heights and weights of a few individuals. Our goal is to predict the weight of an individual given their height using a linear regression model."
   ]
  },
  {
   "cell_type": "code",
   "execution_count": 2,
   "metadata": {
    "colab": {
     "base_uri": "https://localhost:8080/",
     "height": 287
    },
    "id": "Z_-53bJa4RG5",
    "outputId": "26831821-4d94-4afc-e4b0-398f89cc24fa"
   },
   "outputs": [],
   "source": [
    "df = pd.read_csv('./heights.csv')"
   ]
  },
  {
   "cell_type": "code",
   "execution_count": 3,
   "metadata": {
    "id": "KQwz0GN-4RG5"
   },
   "outputs": [
    {
     "data": {
      "text/html": [
       "<div>\n",
       "<style scoped>\n",
       "    .dataframe tbody tr th:only-of-type {\n",
       "        vertical-align: middle;\n",
       "    }\n",
       "\n",
       "    .dataframe tbody tr th {\n",
       "        vertical-align: top;\n",
       "    }\n",
       "\n",
       "    .dataframe thead th {\n",
       "        text-align: right;\n",
       "    }\n",
       "</style>\n",
       "<table border=\"1\" class=\"dataframe\">\n",
       "  <thead>\n",
       "    <tr style=\"text-align: right;\">\n",
       "      <th></th>\n",
       "      <th>Height</th>\n",
       "      <th>Weight</th>\n",
       "    </tr>\n",
       "  </thead>\n",
       "  <tbody>\n",
       "    <tr>\n",
       "      <th>0</th>\n",
       "      <td>1.47</td>\n",
       "      <td>52.21</td>\n",
       "    </tr>\n",
       "    <tr>\n",
       "      <th>1</th>\n",
       "      <td>1.50</td>\n",
       "      <td>53.12</td>\n",
       "    </tr>\n",
       "    <tr>\n",
       "      <th>2</th>\n",
       "      <td>1.52</td>\n",
       "      <td>54.48</td>\n",
       "    </tr>\n",
       "    <tr>\n",
       "      <th>3</th>\n",
       "      <td>1.55</td>\n",
       "      <td>55.84</td>\n",
       "    </tr>\n",
       "    <tr>\n",
       "      <th>4</th>\n",
       "      <td>1.57</td>\n",
       "      <td>57.20</td>\n",
       "    </tr>\n",
       "  </tbody>\n",
       "</table>\n",
       "</div>"
      ],
      "text/plain": [
       "   Height  Weight\n",
       "0    1.47   52.21\n",
       "1    1.50   53.12\n",
       "2    1.52   54.48\n",
       "3    1.55   55.84\n",
       "4    1.57   57.20"
      ]
     },
     "execution_count": 3,
     "metadata": {},
     "output_type": "execute_result"
    }
   ],
   "source": [
    "df.head()"
   ]
  },
  {
   "cell_type": "code",
   "execution_count": 4,
   "metadata": {
    "id": "EjpMxn7O4RG6"
   },
   "outputs": [
    {
     "data": {
      "image/png": "[encoded data removed]",
      "text/plain": [
       "<Figure size 640x480 with 1 Axes>"
      ]
     },
     "metadata": {},
     "output_type": "display_data"
    }
   ],
   "source": [
    "import matplotlib.pyplot as plt\n",
    "\n",
    "plt.scatter(df['Height'], df['Weight'], marker='X')\n",
    "plt.xlabel(\"Height\")\n",
    "plt.ylabel(\"Weight\")\n",
    "plt.show()"
   ]
  },
  {
   "cell_type": "markdown",
   "metadata": {
    "id": "_r3tAqoT4RG6"
   },
   "source": [
    "Looking at the distribution of the data, it seems like `Weight` and `Height` have a linear relationship. Hence, a linear regression model should be able to capture this relationship.  \n",
    "\n",
    "Let's us convert the dataframe `df` to a Numpy array so that it is easier to perform operations on it."
   ]
  },
  {
   "cell_type": "code",
   "execution_count": 5,
   "metadata": {
    "id": "7jsY8pC-4RG6"
   },
   "outputs": [],
   "source": [
    "X_train = np.array(df['Height'])\n",
    "y_train = np.array(df['Weight'])\n",
    "X_train = np.expand_dims(X_train, -1)\n",
    "#print(X_train)\n",
    "#print(y_train)"
   ]
  },
  {
   "cell_type": "markdown",
   "metadata": {
    "id": "MfVJtXGE4RG7"
   },
   "source": [
    "### (30 points) Implement the ` LinearRegression` class\n",
    "Make sure it works with more than 1 feature.  \n",
    "**NOTE:** Do **NOT** forget to include a bias term in the weights."
   ]
  },
  {
   "cell_type": "code",
   "execution_count": 6,
   "metadata": {
    "id": "gKNs0n0r4RG7"
   },
   "outputs": [],
   "source": [
    "class LinearRegression:\n",
    "    def __init__(self, lr=0.001, epochs=30):\n",
    "        \"\"\"\n",
    "        Fits a linear regression model on a given dataset.\n",
    "\n",
    "        Args:\n",
    "            lr: learning rate\n",
    "            epochs: number of iterations over the dataset\n",
    "        \"\"\"\n",
    "        self.lr = lr\n",
    "        self.epochs = epochs\n",
    "        ######################\n",
    "        #   YOUR CODE HERE   #\n",
    "        ######################\n",
    "        # You may add additional fields\n",
    "        self.weights = None\n",
    "        self.bias = 0\n",
    "\n",
    "\n",
    "    def train(self, X, y):\n",
    "        \"\"\"\n",
    "        Initialize weights. Iterate through the dataset and update weights once every epoch.\n",
    "\n",
    "        Args:\n",
    "            X: features\n",
    "            y: target\n",
    "        \"\"\"\n",
    "        ######################\n",
    "        #   YOUR CODE HERE   #\n",
    "        ######################\n",
    "        n = X.shape[1] #gives the number of columns which is features for input variable\n",
    "        self.weights = np.zeros(n)\n",
    "        for epoch in range(self.epochs):\n",
    "            self.update_weights(X,y)\n",
    "\n",
    "\n",
    "\n",
    "    def update_weights(self, X, y):\n",
    "        \"\"\"\n",
    "        Helper function to calculate the gradients and update weights using batch gradient descent.\n",
    "\n",
    "        Args:\n",
    "            X: features\n",
    "            y: target\n",
    "        \"\"\"\n",
    "        ######################\n",
    "        #   YOUR CODE HERE   #\n",
    "        ######################\n",
    "        nsamples = X.shape[0] #gives number of rows which is number of inputs\n",
    "        ypred = np.dot(X,self.weights) + self.bias #computes matrix multiplication and stores\n",
    "\n",
    "        dw = -(2/nsamples) * np.dot(X.T , (y - ypred)) #X.T gives transpose and then you matrix multiply using np.dot()\n",
    "        db = -(2/nsamples) * np.sum(y - ypred)\n",
    "\n",
    "        #both the above formulas come after mathematical simplification \n",
    "\n",
    "        self.weights = self.weights - self.lr * dw\n",
    "        self.bias = self.bias - self.lr * db\n",
    "\n",
    "\n",
    "\n",
    "    def predict(self, X):\n",
    "        \"\"\"\n",
    "        Predict values using the weights.\n",
    "\n",
    "        Args:\n",
    "            X: features\n",
    "\n",
    "        Returns:\n",
    "            The predicted value.\n",
    "        \"\"\"\n",
    "        ######################\n",
    "        #   YOUR CODE HERE   #\n",
    "        ######################\n",
    "        return np.dot(X,self.weights) + self.bias\n",
    "\n"
   ]
  },
  {
   "cell_type": "markdown",
   "metadata": {
    "id": "x14dIa1r4RG7"
   },
   "source": [
    "### Build the model and train on the dataset."
   ]
  },
  {
   "cell_type": "code",
   "execution_count": 7,
   "metadata": {
    "id": "iDbdaKYi4RG8"
   },
   "outputs": [],
   "source": [
    "model = LinearRegression(0.01, 100000)\n",
    "model.train(X_train, y_train)"
   ]
  },
  {
   "cell_type": "markdown",
   "metadata": {
    "id": "y_XhoaNJ4RG8"
   },
   "source": [
    "### (10 points) Implement the evaluation metric `mean squared error`.\n",
    "We use the [mean squared error (MSE)](https://en.wikipedia.org/wiki/Mean_squared_error) as the metric to evaluate our model."
   ]
  },
  {
   "cell_type": "code",
   "execution_count": 8,
   "metadata": {
    "id": "Hy2HKm6H4RG8"
   },
   "outputs": [],
   "source": [
    "def mean_squared_error(y_pred, y_actual):\n",
    "    \"\"\"\n",
    "    Calculates the mean squared error between two vectors.\n",
    "\n",
    "    Args:\n",
    "        y_pred: predicted values\n",
    "        y_actual: actual/true values\n",
    "\n",
    "    Returns:\n",
    "        The mean squared error.\n",
    "    \"\"\"\n",
    "    ######################\n",
    "    #   YOUR CODE HERE   #\n",
    "    ######################\n",
    "    y_pred = np.array(y_pred)\n",
    "    y_actual = np.array(y_actual)\n",
    "\n",
    "    mse = np.mean((y_pred - y_actual)**2)\n",
    "    return mse\n",
    "\n"
   ]
  },
  {
   "cell_type": "markdown",
   "metadata": {
    "id": "bEL5aZl34RG8"
   },
   "source": [
    "### Make predictions using the model and evaluate it."
   ]
  },
  {
   "cell_type": "code",
   "execution_count": 9,
   "metadata": {
    "id": "xNoF3xni4RG8"
   },
   "outputs": [
    {
     "name": "stdout",
     "output_type": "stream",
     "text": [
      "Train MSE: 0.4994\n"
     ]
    }
   ],
   "source": [
    "y_pred = model.predict(X_train)\n",
    "print(\"Train MSE: {:.4f}\".format(mean_squared_error(y_pred, y_train)))"
   ]
  },
  {
   "cell_type": "markdown",
   "metadata": {
    "id": "rHBt5m9I4RG9"
   },
   "source": [
    "### Plot the predicted and the actual values."
   ]
  },
  {
   "cell_type": "code",
   "execution_count": 10,
   "metadata": {
    "id": "IUpXshvT4RG9"
   },
   "outputs": [
    {
     "data": {
      "image/png": "[encoded data removed]",
      "text/plain": [
       "<Figure size 640x480 with 1 Axes>"
      ]
     },
     "metadata": {},
     "output_type": "display_data"
    }
   ],
   "source": [
    "import matplotlib.pyplot as plt\n",
    "\n",
    "plt.scatter(X_train, y_train, marker='x', label='actual')\n",
    "plt.scatter(X_train, y_pred, marker='o', label='predicted')\n",
    "plt.legend()\n",
    "plt.show()"
   ]
  },
  {
   "cell_type": "markdown",
   "metadata": {
    "id": "UidA5Xfg4RG9"
   },
   "source": [
    "### Multiple linear regression for sales prediction\n",
    "\n",
    "Next we use our linear regression model to learn the relationship between sales and advertising budget for a product. The `advertise.csv` dataset contains statistics about the sales of a product in 200 different markets, together with advertising budgets in each of these markets for different media channels: TV, radio, and newspaper. The sales are in thousands of units and the budget is in thousands of dollars.  \n",
    "\n",
    "We will train a linear regression model to predict the sales of the product given the TV, radio, and newspaper ad budgets."
   ]
  },
  {
   "cell_type": "code",
   "execution_count": 11,
   "metadata": {
    "id": "3EO2yBKf4RG9"
   },
   "outputs": [],
   "source": [
    "df = pd.read_csv('./advertise.csv')"
   ]
  },
  {
   "cell_type": "code",
   "execution_count": 12,
   "metadata": {
    "id": "eDQOiAik4RG-"
   },
   "outputs": [
    {
     "data": {
      "text/html": [
       "<div>\n",
       "<style scoped>\n",
       "    .dataframe tbody tr th:only-of-type {\n",
       "        vertical-align: middle;\n",
       "    }\n",
       "\n",
       "    .dataframe tbody tr th {\n",
       "        vertical-align: top;\n",
       "    }\n",
       "\n",
       "    .dataframe thead th {\n",
       "        text-align: right;\n",
       "    }\n",
       "</style>\n",
       "<table border=\"1\" class=\"dataframe\">\n",
       "  <thead>\n",
       "    <tr style=\"text-align: right;\">\n",
       "      <th></th>\n",
       "      <th>TV</th>\n",
       "      <th>Radio</th>\n",
       "      <th>Newspaper</th>\n",
       "      <th>Sales</th>\n",
       "    </tr>\n",
       "  </thead>\n",
       "  <tbody>\n",
       "    <tr>\n",
       "      <th>0</th>\n",
       "      <td>230.1</td>\n",
       "      <td>37.8</td>\n",
       "      <td>69.2</td>\n",
       "      <td>22.1</td>\n",
       "    </tr>\n",
       "    <tr>\n",
       "      <th>1</th>\n",
       "      <td>44.5</td>\n",
       "      <td>39.3</td>\n",
       "      <td>45.1</td>\n",
       "      <td>10.4</td>\n",
       "    </tr>\n",
       "    <tr>\n",
       "      <th>2</th>\n",
       "      <td>17.2</td>\n",
       "      <td>45.9</td>\n",
       "      <td>69.3</td>\n",
       "      <td>12.0</td>\n",
       "    </tr>\n",
       "    <tr>\n",
       "      <th>3</th>\n",
       "      <td>151.5</td>\n",
       "      <td>41.3</td>\n",
       "      <td>58.5</td>\n",
       "      <td>16.5</td>\n",
       "    </tr>\n",
       "    <tr>\n",
       "      <th>4</th>\n",
       "      <td>180.8</td>\n",
       "      <td>10.8</td>\n",
       "      <td>58.4</td>\n",
       "      <td>17.9</td>\n",
       "    </tr>\n",
       "  </tbody>\n",
       "</table>\n",
       "</div>"
      ],
      "text/plain": [
       "      TV  Radio  Newspaper  Sales\n",
       "0  230.1   37.8       69.2   22.1\n",
       "1   44.5   39.3       45.1   10.4\n",
       "2   17.2   45.9       69.3   12.0\n",
       "3  151.5   41.3       58.5   16.5\n",
       "4  180.8   10.8       58.4   17.9"
      ]
     },
     "execution_count": 12,
     "metadata": {},
     "output_type": "execute_result"
    }
   ],
   "source": [
    "df.head()"
   ]
  },
  {
   "cell_type": "code",
   "execution_count": 13,
   "metadata": {
    "id": "hen7UJXv4RG-"
   },
   "outputs": [],
   "source": [
    "X = np.array(df[['TV', 'Radio', 'Newspaper']])\n",
    "y = np.array(df['Sales'])"
   ]
  },
  {
   "cell_type": "markdown",
   "metadata": {
    "id": "Z58Lnr5j4RG_"
   },
   "source": [
    "### Split the data into train and test set."
   ]
  },
  {
   "cell_type": "code",
   "execution_count": 14,
   "metadata": {
    "id": "5iK_25IL4RG_"
   },
   "outputs": [],
   "source": [
    "def split_indices(n, test_frac, seed):\n",
    "    \"\"\"\n",
    "    Provides indices for creating training and test set.\n",
    "    \"\"\"\n",
    "    # Determine the size of the test set\n",
    "    n_test = int(test_frac * n)\n",
    "    np.random.seed(seed)\n",
    "    # Create random permutation between 0 to n-1\n",
    "    idxs = np.random.permutation(n)\n",
    "    # Pick first n_test indices for test set\n",
    "    return idxs[n_test:], idxs[:n_test]"
   ]
  },
  {
   "cell_type": "code",
   "execution_count": 15,
   "metadata": {
    "id": "649CelxA4RHA"
   },
   "outputs": [
    {
     "name": "stdout",
     "output_type": "stream",
     "text": [
      "#samples in training set: 160\n",
      "#samples in test set: 40\n"
     ]
    }
   ],
   "source": [
    "test_frac = 0.2 ## Set the fraction for the test set\n",
    "rand_seed = 42 ## Set the random seed\n",
    "\n",
    "train_indices, test_indices = split_indices(df.shape[0], test_frac, rand_seed)\n",
    "print(\"#samples in training set: {}\".format(len(train_indices)))\n",
    "print(\"#samples in test set: {}\".format(len(test_indices)))"
   ]
  },
  {
   "cell_type": "code",
   "execution_count": 16,
   "metadata": {
    "id": "xEGZwH-T4RHA"
   },
   "outputs": [],
   "source": [
    "X_train = X[train_indices]\n",
    "y_train = y[train_indices]\n",
    "X_test = X[test_indices]\n",
    "y_test = y[test_indices]"
   ]
  },
  {
   "cell_type": "markdown",
   "metadata": {
    "id": "YJEBnkzv4RHA"
   },
   "source": [
    "### Build the model and train on the dataset."
   ]
  },
  {
   "cell_type": "code",
   "execution_count": 17,
   "metadata": {
    "id": "oLAFhbCc4RHA"
   },
   "outputs": [],
   "source": [
    "model = LinearRegression(0.00001, 1000000)\n",
    "model.train(X_train, y_train)"
   ]
  },
  {
   "cell_type": "markdown",
   "metadata": {
    "id": "cqzCg_Vw4RHB"
   },
   "source": [
    "### (10 points) Evaluation on training and test set.\n",
    "If you have implemented `LinearRegression` correctly, the **test MSE** should be < 3."
   ]
  },
  {
   "cell_type": "code",
   "execution_count": 18,
   "metadata": {
    "id": "0rikRruQ4RHB"
   },
   "outputs": [
    {
     "name": "stdout",
     "output_type": "stream",
     "text": [
      "Training MSE: 2.6881\n",
      "Test MSE: 2.8942\n"
     ]
    }
   ],
   "source": [
    "print(\"Training MSE: {:.4f}\".format(mean_squared_error(model.predict(X_train), y_train)))\n",
    "print(\"Test MSE: {:.4f}\".format(mean_squared_error(model.predict(X_test), y_test)))"
   ]
  },
  {
   "cell_type": "markdown",
   "metadata": {
    "id": "xcC2tNgp4RHC"
   },
   "source": [
    "## Question 2 (50 points)\n",
    "\n",
    "## Logistic Regression\n",
    "\n",
    "In this section, we'll implement a logistic regression model that can learn to predict the class/label of a target/dependent variable based on multiple independent variables. We'll be using gradient descent to train the model."
   ]
  },
  {
   "cell_type": "markdown",
   "metadata": {
    "id": "CA8ztGQY4RHC"
   },
   "source": [
    "### Data Preparation\n",
    "Once again, to keep things simple, first we'll use the heights and weights dataset to test our implementation. Let's divide the weights into 2 categories: 0 if the weight is < 60 and 1 otherwise. Our goal is to predict the weight category of an individual given their height using a logistic regression model."
   ]
  },
  {
   "cell_type": "code",
   "execution_count": 19,
   "metadata": {
    "id": "Y7ERJOsO4RHC"
   },
   "outputs": [
    {
     "data": {
      "text/html": [
       "<div>\n",
       "<style scoped>\n",
       "    .dataframe tbody tr th:only-of-type {\n",
       "        vertical-align: middle;\n",
       "    }\n",
       "\n",
       "    .dataframe tbody tr th {\n",
       "        vertical-align: top;\n",
       "    }\n",
       "\n",
       "    .dataframe thead th {\n",
       "        text-align: right;\n",
       "    }\n",
       "</style>\n",
       "<table border=\"1\" class=\"dataframe\">\n",
       "  <thead>\n",
       "    <tr style=\"text-align: right;\">\n",
       "      <th></th>\n",
       "      <th>Height</th>\n",
       "      <th>Weight</th>\n",
       "    </tr>\n",
       "  </thead>\n",
       "  <tbody>\n",
       "    <tr>\n",
       "      <th>0</th>\n",
       "      <td>1.47</td>\n",
       "      <td>52.21</td>\n",
       "    </tr>\n",
       "    <tr>\n",
       "      <th>1</th>\n",
       "      <td>1.50</td>\n",
       "      <td>53.12</td>\n",
       "    </tr>\n",
       "    <tr>\n",
       "      <th>2</th>\n",
       "      <td>1.52</td>\n",
       "      <td>54.48</td>\n",
       "    </tr>\n",
       "    <tr>\n",
       "      <th>3</th>\n",
       "      <td>1.55</td>\n",
       "      <td>55.84</td>\n",
       "    </tr>\n",
       "    <tr>\n",
       "      <th>4</th>\n",
       "      <td>1.57</td>\n",
       "      <td>57.20</td>\n",
       "    </tr>\n",
       "  </tbody>\n",
       "</table>\n",
       "</div>"
      ],
      "text/plain": [
       "   Height  Weight\n",
       "0    1.47   52.21\n",
       "1    1.50   53.12\n",
       "2    1.52   54.48\n",
       "3    1.55   55.84\n",
       "4    1.57   57.20"
      ]
     },
     "execution_count": 19,
     "metadata": {},
     "output_type": "execute_result"
    }
   ],
   "source": [
    "df = pd.read_csv('./heights.csv')\n",
    "df.head()"
   ]
  },
  {
   "cell_type": "code",
   "execution_count": 20,
   "metadata": {
    "id": "iprV7qbF4RHC"
   },
   "outputs": [],
   "source": [
    "X_train = np.array(df['Height'])\n",
    "y_train = np.array((df['Weight'] >= 60).astype('float'))\n",
    "X_train = np.expand_dims(X_train, -1)"
   ]
  },
  {
   "cell_type": "markdown",
   "metadata": {
    "id": "yjEHEaPM4RHD"
   },
   "source": [
    "### (30 points) Implement the ` LogisticRegression` class\n",
    "Make sure it works with more than 1 feature.  \n",
    "**NOTE:** Do **NOT** forget to include a bias term in the weights."
   ]
  },
  {
   "cell_type": "code",
   "execution_count": 21,
   "metadata": {
    "id": "Tky-3IuZ4RHE"
   },
   "outputs": [],
   "source": [
    "class LogisticRegression:\n",
    "    def __init__(self, lr=0.001, epochs=30):\n",
    "        \"\"\"\n",
    "        Fits a logistic regression model on a given dataset.\n",
    "\n",
    "        Args:\n",
    "            lr: learning rate\n",
    "            epochs: number of iterations over the dataset\n",
    "        \"\"\"\n",
    "        self.lr = lr\n",
    "        self.epochs = epochs\n",
    "        self.weights = None\n",
    "        self.bias = 0\n",
    "        ######################\n",
    "        #   YOUR CODE HERE   #\n",
    "        ######################\n",
    "        # You may add additional fields\n",
    "\n",
    "    # Function for model training\n",
    "    def train(self, X, y):\n",
    "        \"\"\"\n",
    "        Initialize weights. Iterate through the dataset and update weights once every epoch.\n",
    "\n",
    "        Args:\n",
    "            X: features\n",
    "            y: target\n",
    "        \"\"\"\n",
    "        ######################\n",
    "        #   YOUR CODE HERE   #\n",
    "        ######################\n",
    "        n = X.shape[1]\n",
    "        self.weights = np.zeros(n)\n",
    "\n",
    "        for epoch in range(self.epochs):\n",
    "            self.update_weights(X,y)\n",
    "\n",
    "\n",
    "\n",
    "    def update_weights(self, X, y):\n",
    "        \"\"\"\n",
    "        Helper function to calculate the gradients and update weights in gradient descent.\n",
    "\n",
    "        Args:\n",
    "            X: features\n",
    "            y: target\n",
    "        \"\"\"\n",
    "        ######################\n",
    "        #   YOUR CODE HERE   #\n",
    "        ######################\n",
    "        nsamples = X.shape[0]\n",
    "\n",
    "        ypred = self.sigmoid(np.dot(X,self.weights) + self.bias)\n",
    "\n",
    "        dw = (1/nsamples) * np.dot(X.T , (ypred - y))\n",
    "        db = (1/nsamples) * np.sum(ypred - y)\n",
    "\n",
    "        self.weights = self.weights - dw * self.lr\n",
    "        self.bias = self.bias - db * self.lr\n",
    "\n",
    "\n",
    "\n",
    "    def predict(self, X):\n",
    "        \"\"\"\n",
    "        Predict probabilities using the weights.\n",
    "\n",
    "        Args:\n",
    "            X: features\n",
    "\n",
    "        Returns:\n",
    "            The predicted probability.\n",
    "        \"\"\"\n",
    "        ######################\n",
    "        #   YOUR CODE HERE   #\n",
    "        ######################\n",
    "        linmod = np.dot(X,self.weights) + self.bias\n",
    "        return self.sigmoid(linmod)\n",
    "    \n",
    "    def sigmoid(self,z):\n",
    "        return 1/(1 + np.exp(-1*z))\n",
    "\n"
   ]
  },
  {
   "cell_type": "markdown",
   "metadata": {
    "id": "aIHKSSm84RHE"
   },
   "source": [
    "### Build the model and train on the dataset."
   ]
  },
  {
   "cell_type": "code",
   "execution_count": 22,
   "metadata": {
    "id": "sRGl9dRH4RHE"
   },
   "outputs": [],
   "source": [
    "model = LogisticRegression(0.1, 100000)\n",
    "model.train(X_train, y_train)"
   ]
  },
  {
   "cell_type": "markdown",
   "metadata": {
    "id": "DWTcEd7I4RHF"
   },
   "source": [
    "### (20 points) Implement the evaluation metric `accuracy`.\n",
    "We use the [accuracy](https://developers.google.com/machine-learning/crash-course/classification/accuracy) as the metric to evaluate our model."
   ]
  },
  {
   "cell_type": "code",
   "execution_count": 23,
   "metadata": {
    "id": "yv6LbsKL4RHF"
   },
   "outputs": [],
   "source": [
    "def accuracy(y_pred, y_actual):\n",
    "    \"\"\"\n",
    "    Calculates the accuracy of the predictions (binary values).\n",
    "\n",
    "    Args:\n",
    "        y_pred: predicted values\n",
    "        y_actual: actual/true values\n",
    "\n",
    "    Returns:\n",
    "        The accuracy.\n",
    "    \"\"\"\n",
    "    ######################\n",
    "    #   YOUR CODE HERE   #\n",
    "    ######################\n",
    "    y_pred = np.array(y_pred)\n",
    "    y_actual = np.array(y_actual)\n",
    "\n",
    "    y_pred_binary = (y_pred >= 0.5)\n",
    "\n",
    "    correct = np.sum(y_pred_binary == y_actual)\n",
    "    accu = correct/len(y_actual)\n",
    "\n",
    "    return accu\n",
    "\n"
   ]
  },
  {
   "cell_type": "markdown",
   "metadata": {
    "id": "0ycc9Syi4RHF"
   },
   "source": [
    "### Make predictions using the model and evaluate it."
   ]
  },
  {
   "cell_type": "code",
   "execution_count": 24,
   "metadata": {
    "id": "H-dveNV54RHF"
   },
   "outputs": [
    {
     "name": "stdout",
     "output_type": "stream",
     "text": [
      "Train Accuracy: 1.0\n"
     ]
    }
   ],
   "source": [
    "y_pred_probs = model.predict(X_train)\n",
    "y_pred = (y_pred_probs >= 0.5).astype('float')\n",
    "print(\"Train Accuracy: {}\".format(accuracy(y_pred, y_train)))"
   ]
  },
  {
   "cell_type": "markdown",
   "metadata": {
    "id": "7oMq4zVx4RHF"
   },
   "source": [
    "### Plot the predicted and the actual values."
   ]
  },
  {
   "cell_type": "code",
   "execution_count": 25,
   "metadata": {
    "id": "BHFg-jO54RHF"
   },
   "outputs": [
    {
     "data": {
      "image/png": "[encoded data removed]",
      "text/plain": [
       "<Figure size 640x480 with 1 Axes>"
      ]
     },
     "metadata": {},
     "output_type": "display_data"
    }
   ],
   "source": [
    "import matplotlib.pyplot as plt\n",
    "\n",
    "plt.scatter(X_train, y_train, marker='x', label='actual')\n",
    "plt.scatter(X_train, y_pred, marker='o', label='predicted')\n",
    "plt.scatter(X_train, y_pred_probs, marker='o', label='predicted probabilities')\n",
    "plt.legend()\n",
    "plt.show()"
   ]
  }
 ],
 "metadata": {
  "colab": {
   "provenance": []
  },
  "kernelspec": {
   "display_name": "Python 3",
   "language": "python",
   "name": "python3"
  },
  "language_info": {
   "codemirror_mode": {
    "name": "ipython",
    "version": 3
   },
   "file_extension": ".py",
   "mimetype": "text/x-python",
   "name": "python",
   "nbconvert_exporter": "python",
   "pygments_lexer": "ipython3",
   "version": "3.9.6"
  }
 },
 "nbformat": 4,
 "nbformat_minor": 0
}
