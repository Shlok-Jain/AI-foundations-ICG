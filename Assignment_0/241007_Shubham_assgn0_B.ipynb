{
  "nbformat": 4,
  "nbformat_minor": 0,
  "metadata": {
    "colab": {
      "provenance": []
    },
    "kernelspec": {
      "name": "python3",
      "display_name": "Python 3"
    },
    "language_info": {
      "name": "python"
    }
  },
  "cells": [
    {
      "cell_type": "markdown",
      "source": [
        "# Simple application of essential python libraries\n",
        "\n",
        "Get an intuitive and applicative understanding of numpy, pandas and matplotlib by using these libraries to play with data often found in real life applications.\n",
        "\n",
        "This book is for understanding the libraries, so make sure to experiment as much as you can, you dont have to stick to exactly what is asked.\n",
        "\n",
        "Guidelines:\n",
        "\n",
        "*   Fill the codeblocks according to the comments given\n",
        "*   Hints are given wherever required\n",
        "*   Your first debugging step should be to print errors to identify the issue.Understand why it went wrong by analyzing the outputs and error messages. Adjust your code to fix the problem systematically.\n",
        "*   If stuck, you're welcome to utilize any online resources, and feel free to ask doubts in the group!\n"
      ],
      "metadata": {
        "id": "CHn-ZDDlcyEq"
      }
    },
    {
      "cell_type": "code",
      "execution_count": 2,
      "metadata": {
        "id": "7WmBvBenXwt5"
      },
      "outputs": [],
      "source": [
        "#import necessary dependencies\n",
        "import urllib.request\n",
        "import pandas as pd\n",
        "import numpy as np\n",
        "import matplotlib.pyplot as plt\n",
        "# ...other dependencies"
      ]
    },
    {
      "cell_type": "markdown",
      "source": [
        "##Data to work on"
      ],
      "metadata": {
        "id": "T34ou7xFX_x5"
      }
    },
    {
      "cell_type": "code",
      "source": [
        "# Step 1: Load the dataset, dont focus on this part\n",
        "url = \"https://people.sc.fsu.edu/~jburkardt/data/csv/airtravel.csv\"\n",
        "filename = \"airtravel.csv\"\n",
        "urllib.request.urlretrieve(url, filename)"
      ],
      "metadata": {
        "id": "n9RazLOrX8w-",
        "colab": {
          "base_uri": "https://localhost:8080/"
        },
        "outputId": "99d5e068-5f1c-4ffa-d380-25fc9f0b0598"
      },
      "execution_count": 4,
      "outputs": [
        {
          "output_type": "execute_result",
          "data": {
            "text/plain": [
              "('airtravel.csv', <http.client.HTTPMessage at 0x7ab19b4aa860>)"
            ]
          },
          "metadata": {},
          "execution_count": 4
        }
      ]
    },
    {
      "cell_type": "markdown",
      "source": [
        "Where did this .csv file get saved? load it using pandas!"
      ],
      "metadata": {
        "id": "N2Uccfa-YLXI"
      }
    },
    {
      "cell_type": "code",
      "source": [
        "#load the .csv file using pandas\n",
        "\n",
        "#create an ndarray from this pandas df, but ignore the \"Month\" column (slicing, maybe?)\n",
        "\n"
      ],
      "metadata": {
        "id": "2YehcY4VYU8u"
      },
      "execution_count": null,
      "outputs": []
    },
    {
      "cell_type": "code",
      "source": [
        "df = pd.read_csv(filename)"
      ],
      "metadata": {
        "id": "6BDBc69BHMc_"
      },
      "execution_count": 5,
      "outputs": []
    },
    {
      "cell_type": "code",
      "source": [
        "arr = df.to_numpy()\n",
        "ndarray = arr[:,1:]\n",
        "print(ndarray)"
      ],
      "metadata": {
        "colab": {
          "base_uri": "https://localhost:8080/"
        },
        "id": "PmvLiqwbHwS9",
        "outputId": "26869b8d-b3bc-4bc9-a9b6-102bfd268994"
      },
      "execution_count": 10,
      "outputs": [
        {
          "output_type": "stream",
          "name": "stdout",
          "text": [
            "[[340 360 417]\n",
            " [318 342 391]\n",
            " [362 406 419]\n",
            " [348 396 461]\n",
            " [363 420 472]\n",
            " [435 472 535]\n",
            " [491 548 622]\n",
            " [505 559 606]\n",
            " [404 463 508]\n",
            " [359 407 461]\n",
            " [310 362 390]\n",
            " [337 405 432]]\n"
          ]
        }
      ]
    },
    {
      "cell_type": "code",
      "source": [
        "#Calculate the mean value across all three years for each month (mean_original) using an np function and return an ndarray consisting mean passengers for each month\n",
        "mean_original ="
      ],
      "metadata": {
        "id": "ZGTPlPRzYywE"
      },
      "execution_count": null,
      "outputs": []
    },
    {
      "cell_type": "code",
      "source": [
        "def mean(arr):\n",
        "  yr_1 = arr[:,0:1]\n",
        "  yr_2 = arr[:,1:2]\n",
        "  yr_3 = arr[:,2:3]\n",
        "  yr_1_mean = round(np.mean(yr_1))\n",
        "  yr_2_mean = round(np.mean(yr_2))\n",
        "  yr_3_mean = round(np.mean(yr_3))\n",
        "  mean_ps = np.array([yr_1_mean,yr_2_mean,yr_3_mean])\n",
        "  return mean_ps\n",
        "\n",
        "print(mean(ndarray))\n",
        "\n"
      ],
      "metadata": {
        "colab": {
          "base_uri": "https://localhost:8080/"
        },
        "id": "31EXW2ZFIXbs",
        "outputId": "3ad10bb2-dfaf-4fc1-e193-38bed0abb6aa"
      },
      "execution_count": 18,
      "outputs": [
        {
          "output_type": "stream",
          "name": "stdout",
          "text": [
            "[381 428 476]\n"
          ]
        }
      ]
    },
    {
      "cell_type": "code",
      "source": [
        "#use matplotlib to plot a bargraph to visualize mean number of passengers across different months\n"
      ],
      "metadata": {
        "id": "CKlm7OvMZSYS"
      },
      "execution_count": null,
      "outputs": []
    },
    {
      "cell_type": "code",
      "source": [
        "xpoints = np.array([1,2,3,4,5,6,7,8,9,10,11,12])\n",
        "yr_1 = list((ndarray[:,0]))\n",
        "yr_2 = list((ndarray[:,1]))\n",
        "yr_3 = list((ndarray[:,2] ))\n",
        "\n",
        "width = 0.25\n",
        "\n",
        "x = np.arange(len(yr_1))\n",
        "\n",
        "plt.bar(x - width, yr_1, width, label='Graph 1', color='b')\n",
        "plt.bar(x, yr_2, width, label='Graph 2', color='g')\n",
        "plt.bar(x + width, yr_3, width, label='Graph 3', color='r')\n",
        "\n",
        "plt.xlabel('Month')\n",
        "plt.ylabel('No. of Passengers')\n",
        "\n",
        "\n",
        "plt.show()"
      ],
      "metadata": {
        "colab": {
          "base_uri": "https://localhost:8080/",
          "height": 449
        },
        "id": "VYQOgLi7J7zs",
        "outputId": "61442a42-1323-44e4-91c5-21476deaa1ea"
      },
      "execution_count": 49,
      "outputs": [
        {
          "output_type": "display_data",
          "data": {
            "text/plain": [
              "<Figure size 640x480 with 1 Axes>"
            ],
            "image/png": "[encoded data removed]"
          },
          "metadata": {}
        }
      ]
    },
    {
      "cell_type": "markdown",
      "source": [
        "##Transforming data"
      ],
      "metadata": {
        "id": "Htv0CimJcktY"
      }
    },
    {
      "cell_type": "markdown",
      "source": [
        "Let's visualize the data"
      ],
      "metadata": {
        "id": "qjGDvQdhacpW"
      }
    },
    {
      "cell_type": "markdown",
      "source": [
        "Simulate a spike across the data"
      ],
      "metadata": {
        "id": "S7LCQnGJZSnc"
      }
    },
    {
      "cell_type": "code",
      "source": [
        "#Simply create a list with the same shape as previous arrays, and fill it with data simulating a spike across months peaking at 100, width, number of peaks, etc. are upto you!\n",
        "\n",
        "\n",
        "#convert the list to a pandas series spike_series, and the mean_original to a pandas series also\n",
        "spike_series =\n",
        "original_series =\n",
        "\n",
        "#define a function called transform_orig() that adds spike_series element-wise to original_series (use .add())\n",
        "def transform_orig()\n",
        "\n",
        "#call the function and obtain a spiked_data series, and convert it back to a list\n",
        "\n"
      ],
      "metadata": {
        "id": "uSRm_RUMY8y3"
      },
      "execution_count": null,
      "outputs": []
    },
    {
      "cell_type": "code",
      "source": [
        "original_data = ndarray\n",
        "shape = original_data.shape\n",
        "\n",
        "x = np.linspace(0, 2 * np.pi, shape[0])\n",
        "spike_data = np.sin(x) * 100\n",
        "\n",
        "spike_data = np.round(spike_data).astype(int)\n",
        "\n",
        "spike_data = np.tile(spike_data, (shape[1], 1)).T\n",
        "\n",
        "\n",
        "spike_series = pd.Series(spike_data.flatten())\n",
        "original_series = pd.Series(original_data.flatten())\n",
        "\n",
        "def transform_orig():\n",
        "    return original_series.add(spike_series, fill_value=0)\n",
        "\n",
        "\n",
        "spiked_data_series = transform_orig()\n",
        "\n",
        "spiked_data = spiked_data_series.values.reshape(shape)\n",
        "\n"
      ],
      "metadata": {
        "id": "qQC66irJc3Qn"
      },
      "execution_count": 47,
      "outputs": []
    },
    {
      "cell_type": "markdown",
      "source": [
        "Plot the new spiked_data across months to visualize the spike's impact on number of passengers"
      ],
      "metadata": {
        "id": "YzbsA-6caMbe"
      }
    },
    {
      "cell_type": "code",
      "source": [
        "#similar to how you plotted it before! (bonus: make it colorful)\n",
        "\n"
      ],
      "metadata": {
        "id": "fSBO8cWJYVRr"
      },
      "execution_count": 32,
      "outputs": []
    },
    {
      "cell_type": "code",
      "source": [
        "xpoints = np.array([1,2,3,4,5,6,7,8,9,10,11,12])\n",
        "yr_1 = list((spiked_data[:,0]))\n",
        "yr_2 = list((spiked_data[:,1]))\n",
        "yr_3 = list((spiked_data[:,2] ))\n",
        "\n",
        "width = 0.25\n",
        "\n",
        "x = np.arange(len(yr_1))\n",
        "\n",
        "plt.bar(x - width, yr_1, width, label='Graph 1', color='b')\n",
        "plt.bar(x, yr_2, width, label='Graph 2', color='g')\n",
        "plt.bar(x + width, yr_3, width, label='Graph 3', color='r')\n",
        "\n",
        "plt.xlabel('Month')\n",
        "plt.ylabel('No. of Passengers')\n",
        "\n",
        "\n",
        "plt.show()"
      ],
      "metadata": {
        "colab": {
          "base_uri": "https://localhost:8080/",
          "height": 449
        },
        "id": "moYEO0HHoAhj",
        "outputId": "26442625-5f53-4f6f-dd4c-4f2d33320b48"
      },
      "execution_count": 50,
      "outputs": [
        {
          "output_type": "display_data",
          "data": {
            "text/plain": [
              "<Figure size 640x480 with 1 Axes>"
            ],
            "image/png": "[encoded data removed]"
          },
          "metadata": {}
        }
      ]
    },
    {
      "cell_type": "markdown",
      "source": [
        "## Compare!"
      ],
      "metadata": {
        "id": "jD2OqtKTcr_E"
      }
    },
    {
      "cell_type": "markdown",
      "source": [
        "Now, all thats left is to compare the graphs"
      ],
      "metadata": {
        "id": "wH3SouROapF8"
      }
    },
    {
      "cell_type": "code",
      "source": [
        "#Create a subplot with first and second plot, along with a graph showing how the data has changed before and after spike (could be a bar graph, upto you, be creative)\n",
        "\n"
      ],
      "metadata": {
        "id": "kuImcGwAatq2"
      },
      "execution_count": null,
      "outputs": []
    },
    {
      "cell_type": "code",
      "source": [
        "yr_1 = list(ndarray[:, 0])\n",
        "yr_2 = list(ndarray[:, 1])\n",
        "yr_3 = list(ndarray[:, 2])\n",
        "\n",
        "yr_1_ = list(spiked_data[:, 0])\n",
        "yr_2_ = list(spiked_data[:, 1])\n",
        "yr_3_ = list(spiked_data[:, 2])\n",
        "\n",
        "\n",
        "width = 0.125\n",
        "\n",
        "\n",
        "x = np.arange(len(yr_1))\n",
        "\n",
        "\n",
        "plt.bar(x - 2*width, yr_1, width, label='Old data', color='black')\n",
        "plt.bar(x - width, yr_2, width, color='black')\n",
        "plt.bar(x, yr_3, width, color='black')\n",
        "\n",
        "plt.bar(x + width, yr_1_, width, label='Spiked data', color='cyan')\n",
        "plt.bar(x + 2*width, yr_2_, width, color='cyan')\n",
        "plt.bar(x + 3*width, yr_3_, width,  color='cyan')\n",
        "\n",
        "\n",
        "plt.xlabel('Month')\n",
        "plt.ylabel('Number of Passengers')\n",
        "plt.title('Comparison of Original and Spiked Passenger Data')\n",
        "\n",
        "# Add a legend\n",
        "plt.legend()"
      ],
      "metadata": {
        "colab": {
          "base_uri": "https://localhost:8080/",
          "height": 490
        },
        "id": "pVCoc1LqMyZF",
        "outputId": "cba12eec-07c6-4c70-a1de-a15934c10461"
      },
      "execution_count": 56,
      "outputs": [
        {
          "output_type": "execute_result",
          "data": {
            "text/plain": [
              "<matplotlib.legend.Legend at 0x7ab1952202e0>"
            ]
          },
          "metadata": {},
          "execution_count": 56
        },
        {
          "output_type": "display_data",
          "data": {
            "text/plain": [
              "<Figure size 640x480 with 1 Axes>"
            ],
            "image/png": "[encoded data removed]"
          },
          "metadata": {}
        }
      ]
    }
  ]
}