{
  "nbformat": 4,
  "nbformat_minor": 0,
  "metadata": {
    "colab": {
      "provenance": []
    },
    "kernelspec": {
      "name": "python3",
      "display_name": "Python 3"
    },
    "language_info": {
      "name": "python"
    }
  },
  "cells": [
    {
      "cell_type": "markdown",
      "source": [
        "# Simple application of essential python libraries\n",
        "\n",
        "Get an intuitive and applicative understanding of numpy, pandas and matplotlib by using these libraries to play with data often found in real life applications.\n",
        "\n",
        "This book is for understanding the libraries, so make sure to experiment as much as you can, you dont have to stick to exactly what is asked.\n",
        "\n",
        "Guidelines:\n",
        "\n",
        "*   Fill the codeblocks according to the comments given\n",
        "*   Hints are given wherever required\n",
        "*   Your first debugging step should be to print errors to identify the issue.Understand why it went wrong by analyzing the outputs and error messages. Adjust your code to fix the problem systematically.\n",
        "*   If stuck, you're welcome to utilize any online resources, and feel free to ask doubts in the group!\n"
      ],
      "metadata": {
        "id": "CHn-ZDDlcyEq"
      }
    },
    {
      "cell_type": "code",
      "execution_count": null,
      "metadata": {
        "id": "7WmBvBenXwt5"
      },
      "outputs": [],
      "source": [
        "#import necessary dependencies\n",
        "from urllib.request import *\n",
        "# ...other dependencies"
      ]
    },
    {
      "cell_type": "markdown",
      "source": [
        "##Data to work on"
      ],
      "metadata": {
        "id": "T34ou7xFX_x5"
      }
    },
    {
      "cell_type": "code",
      "source": [
        "# Step 1: Load the dataset, dont focus on this part\n",
        "import urllib.request\n",
        "url = \"https://people.sc.fsu.edu/~jburkardt/data/csv/airtravel.csv\"\n",
        "filename = \"airtravel.csv\"\n",
        "urllib.request.urlretrieve(url, filename)"
      ],
      "metadata": {
        "id": "n9RazLOrX8w-",
        "colab": {
          "base_uri": "https://localhost:8080/"
        },
        "outputId": "e87897c0-cf24-4e5b-82bb-389aa957db21"
      },
      "execution_count": null,
      "outputs": [
        {
          "output_type": "execute_result",
          "data": {
            "text/plain": [
              "('airtravel.csv', <http.client.HTTPMessage at 0x79efb0691600>)"
            ]
          },
          "metadata": {},
          "execution_count": 13
        }
      ]
    },
    {
      "cell_type": "markdown",
      "source": [
        "Where did this .csv file get saved? load it using pandas!"
      ],
      "metadata": {
        "id": "N2Uccfa-YLXI"
      }
    },
    {
      "cell_type": "code",
      "source": [
        "#load the .csv file using pandas\n",
        "import pandas as pd\n",
        "df = pd.read_csv(filename)\n",
        "print(df)\n",
        "#create an ndarray from this pandas df, but ignore the \"Month\" column (slicing, maybe?)\n",
        "newdf = df.iloc[0: , 1:]\n",
        "print(newdf)\n"
      ],
      "metadata": {
        "id": "2YehcY4VYU8u",
        "colab": {
          "base_uri": "https://localhost:8080/"
        },
        "outputId": "6e23aba4-f9d2-4925-fed2-8f547f8a62a6"
      },
      "execution_count": null,
      "outputs": [
        {
          "output_type": "stream",
          "name": "stdout",
          "text": [
            "   Month   \"1958\"   \"1959\"   \"1960\"\n",
            "0    JAN      340      360      417\n",
            "1    FEB      318      342      391\n",
            "2    MAR      362      406      419\n",
            "3    APR      348      396      461\n",
            "4    MAY      363      420      472\n",
            "5    JUN      435      472      535\n",
            "6    JUL      491      548      622\n",
            "7    AUG      505      559      606\n",
            "8    SEP      404      463      508\n",
            "9    OCT      359      407      461\n",
            "10   NOV      310      362      390\n",
            "11   DEC      337      405      432\n",
            "    \"1958\"  \"1959\"  \"1960\"\n",
            "0      340     360     417\n",
            "1      318     342     391\n",
            "2      362     406     419\n",
            "3      348     396     461\n",
            "4      363     420     472\n",
            "5      435     472     535\n",
            "6      491     548     622\n",
            "7      505     559     606\n",
            "8      404     463     508\n",
            "9      359     407     461\n",
            "10     310     362     390\n",
            "11     337     405     432\n"
          ]
        }
      ]
    },
    {
      "cell_type": "code",
      "source": [
        "#Calculate the mean value across all three years for each month (mean_original) using an np function and return an ndarray consisting mean passengers for each month\n",
        "mean_original = newdf.mean(axis=1) #by default axis=0 will give mean along column which is mean passenger in a year but we want mean across rows which will give mean for each month\n",
        "print(mean_original)\n"
      ],
      "metadata": {
        "id": "ZGTPlPRzYywE",
        "colab": {
          "base_uri": "https://localhost:8080/"
        },
        "outputId": "04f025eb-88f2-4162-d30c-1bb544ce5d20"
      },
      "execution_count": null,
      "outputs": [
        {
          "output_type": "stream",
          "name": "stdout",
          "text": [
            "0     372.333333\n",
            "1     350.333333\n",
            "2     395.666667\n",
            "3     401.666667\n",
            "4     418.333333\n",
            "5     480.666667\n",
            "6     553.666667\n",
            "7     556.666667\n",
            "8     458.333333\n",
            "9     409.000000\n",
            "10    354.000000\n",
            "11    391.333333\n",
            "dtype: float64\n"
          ]
        }
      ]
    },
    {
      "cell_type": "code",
      "source": [
        "#use matplotlib to plot a bargraph to visualize mean number of passengers across different months\n",
        "import matplotlib.pyplot as plt\n",
        "plt.bar(mean_original.index, mean_original.values)\n",
        "plt.show()"
      ],
      "metadata": {
        "id": "CKlm7OvMZSYS",
        "colab": {
          "base_uri": "https://localhost:8080/",
          "height": 430
        },
        "outputId": "b1189aec-49c2-4037-c9b6-133ca70d8830"
      },
      "execution_count": null,
      "outputs": [
        {
          "output_type": "display_data",
          "data": {
            "text/plain": [
              "<Figure size 640x480 with 1 Axes>"
            ],
            "image/png": "[encoded data removed]"
          },
          "metadata": {}
        }
      ]
    },
    {
      "cell_type": "markdown",
      "source": [
        "##Transforming data"
      ],
      "metadata": {
        "id": "Htv0CimJcktY"
      }
    },
    {
      "cell_type": "markdown",
      "source": [
        "Let's visualize the data"
      ],
      "metadata": {
        "id": "qjGDvQdhacpW"
      }
    },
    {
      "cell_type": "markdown",
      "source": [
        "Simulate a spike across the data"
      ],
      "metadata": {
        "id": "S7LCQnGJZSnc"
      }
    },
    {
      "cell_type": "code",
      "source": [
        "#Simply create a list with the same shape as previous arrays, and fill it with data simulating a spike across months peaking at 100, width, number of peaks, etc. are upto you!\n",
        "\n",
        "\n",
        "#convert the list to a pandas series spike_series, and the mean_original to a pandas series also\n",
        "spike_series =\n",
        "original_series =\n",
        "\n",
        "#define a function called transform_orig() that adds spike_series element-wise to original_series (use .add())\n",
        "def transform_orig()\n",
        "\n",
        "#call the function and obtain a spiked_data series, and convert it back to a list\n",
        "\n",
        "\n",
        "#don't understand the question\n"
      ],
      "metadata": {
        "id": "uSRm_RUMY8y3"
      },
      "execution_count": null,
      "outputs": []
    },
    {
      "cell_type": "markdown",
      "source": [
        "Plot the new spiked_data across months to visualize the spike's impact on number of passengers"
      ],
      "metadata": {
        "id": "YzbsA-6caMbe"
      }
    },
    {
      "cell_type": "code",
      "source": [
        "#similar to how you plotted it before! (bonus: make it colorful)\n",
        "\n"
      ],
      "metadata": {
        "id": "fSBO8cWJYVRr"
      },
      "execution_count": null,
      "outputs": []
    },
    {
      "cell_type": "markdown",
      "source": [
        "## Compare!"
      ],
      "metadata": {
        "id": "jD2OqtKTcr_E"
      }
    },
    {
      "cell_type": "markdown",
      "source": [
        "Now, all thats left is to compare the graphs"
      ],
      "metadata": {
        "id": "wH3SouROapF8"
      }
    },
    {
      "cell_type": "code",
      "source": [
        "#Create a subplot with first and second plot, along with a graph showing how the data has changed before and after spike (could be a bar graph, upto you, be creative)\n",
        "\n"
      ],
      "metadata": {
        "id": "kuImcGwAatq2"
      },
      "execution_count": null,
      "outputs": []
    }
  ]
}