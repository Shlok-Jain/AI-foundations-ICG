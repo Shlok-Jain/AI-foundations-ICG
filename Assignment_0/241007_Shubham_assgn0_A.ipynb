{
  "nbformat": 4,
  "nbformat_minor": 0,
  "metadata": {
    "colab": {
      "provenance": []
    },
    "kernelspec": {
      "name": "python3",
      "display_name": "Python 3"
    },
    "language_info": {
      "name": "python"
    }
  },
  "cells": [
    {
      "cell_type": "markdown",
      "source": [
        "Instructions for the assignment\n",
        "\n",
        "\n",
        "*   Fill the codeblocks according to the comments given\n",
        "*   Hints are given wherever required\n",
        "*   Please note that copying will not be tolerated, and appropriate action will be taken if we suspect any misconduct.\n",
        "*   You're welcome to utilize any online resources in case you feel stuck anywhere\n",
        "\n",
        "\n",
        "\n",
        "\n",
        "\n",
        "\n",
        "\n"
      ],
      "metadata": {
        "id": "kIAcUXNYVeGR"
      }
    },
    {
      "cell_type": "markdown",
      "source": [
        "# Section A *(2 Marks each)*"
      ],
      "metadata": {
        "id": "UhXvUdK6Stt_"
      }
    },
    {
      "cell_type": "markdown",
      "source": [
        "## NumPy (Numerical Python)\n",
        "\n",
        "### Multidimensional array object\n",
        "- Array is a grid of homogeneous elements which can be indexed in various ways\n",
        "- Different from Python list which can store different data types\n",
        "- NumPy stores multidimensional arrays as an instance of **ndarray**\n",
        "\n"
      ],
      "metadata": {
        "id": "oc77CrhjAGlR"
      }
    },
    {
      "cell_type": "code",
      "source": [
        "import numpy as np"
      ],
      "metadata": {
        "id": "WGtRigfyBpgb"
      },
      "execution_count": 2,
      "outputs": []
    },
    {
      "cell_type": "code",
      "execution_count": null,
      "metadata": {
        "id": "UR9ftRnU8_lu"
      },
      "outputs": [],
      "source": [
        "# Python list to initialize a one dimensional NumPy array of numbers 1 to 5 and then print it\n",
        "\n",
        "# Python list to initialize a two dimensional NumPy array of shape [3,3] and then print it"
      ]
    },
    {
      "cell_type": "code",
      "source": [
        "a = list((1,2,3,4,5))\n",
        "arr = np.array(a)\n",
        "print(arr)\n",
        "# for i in arr:\n",
        "#   print(i,end=\" \")"
      ],
      "metadata": {
        "colab": {
          "base_uri": "https://localhost:8080/"
        },
        "id": "lP1IzFYAHqf_",
        "outputId": "41bee6fb-163f-40a8-d329-b2a843a7cbd4"
      },
      "execution_count": null,
      "outputs": [
        {
          "output_type": "stream",
          "name": "stdout",
          "text": [
            "1 2 3 4 5 "
          ]
        }
      ]
    },
    {
      "cell_type": "code",
      "source": [
        "arr = np.array([[1,2,3],[4,5,6],[7,8,9]])\n",
        "print(arr)"
      ],
      "metadata": {
        "id": "4ZOoOLKpGtYm",
        "colab": {
          "base_uri": "https://localhost:8080/"
        },
        "outputId": "bfd6af6b-d28f-46c2-9025-d1a2206b847f"
      },
      "execution_count": null,
      "outputs": [
        {
          "output_type": "stream",
          "name": "stdout",
          "text": [
            "[[1 2 3]\n",
            " [4 5 6]\n",
            " [7 8 9]]\n"
          ]
        }
      ]
    },
    {
      "cell_type": "code",
      "source": [
        "# Write a NumPy function to create an array with random values of shape [3,4]\n",
        "\n",
        "# Write a NumPy function to create an array with all elements initialized as zero of shape [3,4]\n",
        "\n",
        "# Write a NumPy function to create an array with all elements initialized as ones of shape [3,4]\n"
      ],
      "metadata": {
        "id": "WZf-M7KnBkhu"
      },
      "execution_count": null,
      "outputs": []
    },
    {
      "cell_type": "code",
      "source": [
        "import random\n",
        "arr = np.ones((3,4))\n",
        "for i in range(3):\n",
        "  for j in range(4):\n",
        "    arr[i,j] = random.randrange(10)\n",
        "print(arr)\n"
      ],
      "metadata": {
        "colab": {
          "base_uri": "https://localhost:8080/"
        },
        "id": "vR2KuSJUJ8TH",
        "outputId": "4bdf0c99-dc2c-4428-8993-d9250a9c4155"
      },
      "execution_count": null,
      "outputs": [
        {
          "output_type": "stream",
          "name": "stdout",
          "text": [
            "[[1. 4. 1. 8.]\n",
            " [0. 4. 3. 5.]\n",
            " [2. 8. 1. 2.]]\n"
          ]
        }
      ]
    },
    {
      "cell_type": "code",
      "source": [
        "arr = np.zeros((3,4))\n",
        "print(arr)"
      ],
      "metadata": {
        "colab": {
          "base_uri": "https://localhost:8080/"
        },
        "id": "j4k0I0zeJ8MS",
        "outputId": "fb2e3ffb-12cb-4ff5-8150-6b218fe83bf7"
      },
      "execution_count": null,
      "outputs": [
        {
          "output_type": "stream",
          "name": "stdout",
          "text": [
            "[[0. 0. 0. 0.]\n",
            " [0. 0. 0. 0.]\n",
            " [0. 0. 0. 0.]]\n"
          ]
        }
      ]
    },
    {
      "cell_type": "code",
      "source": [
        "arr = np.ones((3,4))\n",
        "print(arr)"
      ],
      "metadata": {
        "colab": {
          "base_uri": "https://localhost:8080/"
        },
        "id": "My1M9vcQJ8B5",
        "outputId": "08de2f89-a5af-4463-891e-e76241cf02a4"
      },
      "execution_count": null,
      "outputs": [
        {
          "output_type": "stream",
          "name": "stdout",
          "text": [
            "[[1. 1. 1. 1.]\n",
            " [1. 1. 1. 1.]\n",
            " [1. 1. 1. 1.]]\n"
          ]
        }
      ]
    },
    {
      "cell_type": "code",
      "source": [
        "# Write a NumPy function to create an array containing a range of evenly spaced intervals\n",
        "# Hint : Use np.arange or np.linspace"
      ],
      "metadata": {
        "id": "Uagv5WtWBknb"
      },
      "execution_count": null,
      "outputs": []
    },
    {
      "cell_type": "code",
      "source": [
        "arr=np.linspace(0, 12, 5)\n",
        "print(arr)"
      ],
      "metadata": {
        "colab": {
          "base_uri": "https://localhost:8080/"
        },
        "id": "jb0RTp3YRRRp",
        "outputId": "8c647204-489f-4406-9ba0-55d8d02f068b"
      },
      "execution_count": null,
      "outputs": [
        {
          "output_type": "stream",
          "name": "stdout",
          "text": [
            "[ 0.  3.  6.  9. 12.]\n"
          ]
        }
      ]
    },
    {
      "cell_type": "code",
      "source": [
        "arr = np.arange(0, 15, 3)\n",
        "print(arr)"
      ],
      "metadata": {
        "colab": {
          "base_uri": "https://localhost:8080/"
        },
        "id": "YEWpRe_DNWGw",
        "outputId": "cf0bdb49-1db5-4894-cc00-6401c5f36edb"
      },
      "execution_count": null,
      "outputs": [
        {
          "output_type": "stream",
          "name": "stdout",
          "text": [
            "[ 0  3  6  9 12]\n"
          ]
        }
      ]
    },
    {
      "cell_type": "markdown",
      "source": [
        "### Basic array operations\n",
        "- algebraic operations\n",
        "- logical operations"
      ],
      "metadata": {
        "id": "dFeKiGA5CNXx"
      }
    },
    {
      "cell_type": "code",
      "source": [
        "a = np.array([[-4,6,8], [9, 3, 1], [1, 8, 5]])\n",
        "b = np.array([[11,16,18], [90, 37, 81], [61, 48, 75]])"
      ],
      "metadata": {
        "id": "mZbgCNnRDVbV"
      },
      "execution_count": null,
      "outputs": []
    },
    {
      "cell_type": "code",
      "source": [
        "# Write a NumPy function to add, subtract, multiply and divide arrays 'a' and 'b'"
      ],
      "metadata": {
        "id": "QajfAkNHCMqe"
      },
      "execution_count": null,
      "outputs": []
    },
    {
      "cell_type": "code",
      "source": [
        "def algebra(a, b):\n",
        "  return {\n",
        "      \"SUM\": np.add(a,b),\n",
        "      \"DIFF\": np.subtract(a,b),\n",
        "      \"MUL\": a @ b,\n",
        "      \"DIV\": a @  np.linalg.inv(b)\n",
        "  }\n",
        "\n",
        "result = algebra(a, b)\n",
        "print(f\"SUM: \\n{result['SUM']}\\n\")\n",
        "print(f\"DIFF: \\n{result['DIFF']}\\n\")\n",
        "print(f\"MUL: \\n{result['MUL']}\\n\")\n",
        "print(f\"DIV: \\n{result['DIV']}\\n\")"
      ],
      "metadata": {
        "colab": {
          "base_uri": "https://localhost:8080/"
        },
        "id": "Dgd0FNUgabf_",
        "outputId": "ac79372f-9d6a-46fe-9433-7df495cf6b72"
      },
      "execution_count": null,
      "outputs": [
        {
          "output_type": "stream",
          "name": "stdout",
          "text": [
            "SUM: \n",
            "[[ 7 22 26]\n",
            " [99 40 82]\n",
            " [62 56 80]]\n",
            "\n",
            "DIFF: \n",
            "[[-15 -10 -10]\n",
            " [-81 -34 -80]\n",
            " [-60 -40 -70]]\n",
            "\n",
            "MUL: \n",
            "[[ 984  542 1014]\n",
            " [ 430  303  480]\n",
            " [1036  552 1041]]\n",
            "\n",
            "DIV: \n",
            "[[-2.49247471 -0.81174439  1.58154453]\n",
            " [ 3.30150506  0.83765112 -1.68369109]\n",
            " [ 1.3002714   0.06908463 -0.32000987]]\n",
            "\n"
          ]
        }
      ]
    },
    {
      "cell_type": "code",
      "source": [
        "# Write a NumPy function to get the sum of the array 'a' along axis=0\n",
        "\n",
        "# Write a NumPy function to get the sum of the array 'a' along axis=1\n"
      ],
      "metadata": {
        "id": "hfBR7r80C_qh"
      },
      "execution_count": null,
      "outputs": []
    },
    {
      "cell_type": "code",
      "source": [
        "print(np.sum(a,axis=0))"
      ],
      "metadata": {
        "colab": {
          "base_uri": "https://localhost:8080/"
        },
        "id": "LI8vrrjHfjNx",
        "outputId": "699635a5-7c61-43bc-cc58-c3c8f3b1f391"
      },
      "execution_count": null,
      "outputs": [
        {
          "output_type": "stream",
          "name": "stdout",
          "text": [
            "[ 6 17 14]\n"
          ]
        }
      ]
    },
    {
      "cell_type": "code",
      "source": [
        "print(np.sum(a,axis=1))"
      ],
      "metadata": {
        "colab": {
          "base_uri": "https://localhost:8080/"
        },
        "id": "KBsddSN6fjAy",
        "outputId": "31aa1cab-5eee-43b4-a3ba-0a3bc5ccb2c3"
      },
      "execution_count": null,
      "outputs": [
        {
          "output_type": "stream",
          "name": "stdout",
          "text": [
            "[10 13 14]\n"
          ]
        }
      ]
    },
    {
      "cell_type": "code",
      "source": [
        "# Write a NumPy function to reverse the array 'a'\n",
        "\n",
        "# Write a NumPy function to reverse the array 'a' along axis=0\n",
        "\n",
        "# Write a NumPy function to reverse the array 'a' along axis=1\n"
      ],
      "metadata": {
        "id": "rBTxfTuFDSiA"
      },
      "execution_count": null,
      "outputs": []
    },
    {
      "cell_type": "code",
      "source": [
        "def reverse(a):\n",
        "  return np.flip(a,axis=0)\n",
        "\n",
        "print(reverse(a))"
      ],
      "metadata": {
        "colab": {
          "base_uri": "https://localhost:8080/"
        },
        "id": "af6y6yTDg4SB",
        "outputId": "bc06b701-588d-48ea-f3d0-dd2de450c9c1"
      },
      "execution_count": null,
      "outputs": [
        {
          "output_type": "stream",
          "name": "stdout",
          "text": [
            "[[ 1  8  5]\n",
            " [ 9  3  1]\n",
            " [-4  6  8]]\n"
          ]
        }
      ]
    },
    {
      "cell_type": "code",
      "source": [
        "def reverse(a):\n",
        "  return np.flip(a,axis=1)\n",
        "\n",
        "print(reverse(a))"
      ],
      "metadata": {
        "colab": {
          "base_uri": "https://localhost:8080/"
        },
        "id": "0vCHlbaYg4JI",
        "outputId": "30ed2d06-3c39-4b84-918f-1749f4bef260"
      },
      "execution_count": null,
      "outputs": [
        {
          "output_type": "stream",
          "name": "stdout",
          "text": [
            "[[ 8  6 -4]\n",
            " [ 1  3  9]\n",
            " [ 5  8  1]]\n"
          ]
        }
      ]
    },
    {
      "cell_type": "code",
      "source": [
        "def reverse(a):\n",
        "  return np.flip(a)\n",
        "\n",
        "print(reverse(a))"
      ],
      "metadata": {
        "colab": {
          "base_uri": "https://localhost:8080/"
        },
        "id": "dTf0jNM6g3-g",
        "outputId": "4a39ae04-63b7-4cb7-8a91-eecefd9bd440"
      },
      "execution_count": null,
      "outputs": [
        {
          "output_type": "stream",
          "name": "stdout",
          "text": [
            "[[ 5  8  1]\n",
            " [ 1  3  9]\n",
            " [ 8  6 -4]]\n"
          ]
        }
      ]
    },
    {
      "cell_type": "markdown",
      "source": [
        "### Sorting and concatenation\n",
        "- sort arrays\n",
        "- join multiple arrays\n"
      ],
      "metadata": {
        "id": "WnCvXc3jCdWH"
      }
    },
    {
      "cell_type": "code",
      "source": [
        "a = np.array([[-4,6,8], [9, 3, 1], [1, 8, 5]])\n",
        "b = np.array([[11,16,18], [90, 37, 81], [61, 48, 75]])"
      ],
      "metadata": {
        "id": "Qsg-EPq7EbPx"
      },
      "execution_count": null,
      "outputs": []
    },
    {
      "cell_type": "code",
      "source": [
        "# Write a NumPy function to sort the array 'a'\n",
        "\n",
        "# Write a NumPy function to sort the array 'a' along axis=0\n",
        "\n",
        "# Write a NumPy function to sort the array 'a' along axis=1\n",
        "\n",
        "# Write a NumPy function to sort the array 'a' in descending order along axis=0\n"
      ],
      "metadata": {
        "id": "_7VfP1anCc0O"
      },
      "execution_count": null,
      "outputs": []
    },
    {
      "cell_type": "code",
      "source": [
        "def sort(a):\n",
        "  return np.sort(a)\n",
        "\n",
        "print(sort(a))"
      ],
      "metadata": {
        "colab": {
          "base_uri": "https://localhost:8080/"
        },
        "id": "pbFSlA_Vh3Be",
        "outputId": "fc8d47e5-4d0e-46fd-f000-719383de5d6b"
      },
      "execution_count": null,
      "outputs": [
        {
          "output_type": "stream",
          "name": "stdout",
          "text": [
            "[[-4  6  8]\n",
            " [ 1  3  9]\n",
            " [ 1  5  8]]\n"
          ]
        }
      ]
    },
    {
      "cell_type": "code",
      "source": [
        "def sort(a):\n",
        "  return np.sort(a,axis=0)\n",
        "\n",
        "print(sort(a))"
      ],
      "metadata": {
        "colab": {
          "base_uri": "https://localhost:8080/"
        },
        "id": "clPb42AIh2-M",
        "outputId": "50f82002-e51f-401c-b070-d9082d8b00f1"
      },
      "execution_count": null,
      "outputs": [
        {
          "output_type": "stream",
          "name": "stdout",
          "text": [
            "[[-4  3  1]\n",
            " [ 1  6  5]\n",
            " [ 9  8  8]]\n"
          ]
        }
      ]
    },
    {
      "cell_type": "code",
      "source": [
        "def sort(a):\n",
        "  return np.sort(a,axis=1)\n",
        "\n",
        "print(sort(a))"
      ],
      "metadata": {
        "colab": {
          "base_uri": "https://localhost:8080/"
        },
        "id": "kOOgDPTjh26p",
        "outputId": "e97a9585-c70e-479d-8939-6336d51af7a4"
      },
      "execution_count": null,
      "outputs": [
        {
          "output_type": "stream",
          "name": "stdout",
          "text": [
            "[[-4  6  8]\n",
            " [ 1  3  9]\n",
            " [ 1  5  8]]\n"
          ]
        }
      ]
    },
    {
      "cell_type": "code",
      "source": [
        "def sort(a):\n",
        "  sorted = np.sort(a, axis=0)\n",
        "  return np.flip(sorted, axis=0)\n",
        "\n",
        "print(sort(a))"
      ],
      "metadata": {
        "colab": {
          "base_uri": "https://localhost:8080/"
        },
        "id": "xSi7uUh0h2xp",
        "outputId": "1e6e2c3d-355a-4d58-fca5-9f50610b1b2a"
      },
      "execution_count": null,
      "outputs": [
        {
          "output_type": "stream",
          "name": "stdout",
          "text": [
            "[[ 9  8  8]\n",
            " [ 1  6  5]\n",
            " [-4  3  1]]\n"
          ]
        }
      ]
    },
    {
      "cell_type": "code",
      "source": [
        "# Write a NumPy function to argsort the array along axis=0\n",
        "\n",
        "# Write a NumPy function to argsort the array along axis=1\n"
      ],
      "metadata": {
        "id": "6BqbtdLYEWng"
      },
      "execution_count": null,
      "outputs": []
    },
    {
      "cell_type": "code",
      "source": [
        "def argsort(a):\n",
        "  return np.argsort(a,axis=0)\n",
        "\n",
        "print(argsort(a))"
      ],
      "metadata": {
        "colab": {
          "base_uri": "https://localhost:8080/"
        },
        "id": "fKE8C8zxjl7i",
        "outputId": "bd6481e2-e4f6-46c6-dd87-0721bcd80e0b"
      },
      "execution_count": null,
      "outputs": [
        {
          "output_type": "stream",
          "name": "stdout",
          "text": [
            "[[0 1 1]\n",
            " [2 0 2]\n",
            " [1 2 0]]\n"
          ]
        }
      ]
    },
    {
      "cell_type": "code",
      "source": [
        "def argsort(a):\n",
        "  return np.argsort(a,axis=1)\n",
        "\n",
        "print(argsort(a))"
      ],
      "metadata": {
        "colab": {
          "base_uri": "https://localhost:8080/"
        },
        "id": "r-EewOkgjlyG",
        "outputId": "03948901-8620-4d13-c7dd-01fbf6dc6b9f"
      },
      "execution_count": null,
      "outputs": [
        {
          "output_type": "stream",
          "name": "stdout",
          "text": [
            "[[0 1 2]\n",
            " [2 1 0]\n",
            " [0 2 1]]\n"
          ]
        }
      ]
    },
    {
      "cell_type": "code",
      "source": [
        "# Write a NumPy function to concatenate the arrays 'a' and 'b'\n",
        "\n",
        "# Write a NumPy function to concatenate the arrays 'a' and 'b' along axis = 0\n",
        "\n",
        "# Note: You can do the same function using stacking, discover and try that :)\n"
      ],
      "metadata": {
        "id": "cixOoXZhEY8-"
      },
      "execution_count": null,
      "outputs": []
    },
    {
      "cell_type": "code",
      "source": [
        "def concatenate(a, b):\n",
        "  return np.concatenate((a,b),axis=1)\n",
        "\n",
        "print(concatenate(a, b))"
      ],
      "metadata": {
        "colab": {
          "base_uri": "https://localhost:8080/"
        },
        "id": "cD6MhcqkkXxD",
        "outputId": "e9450ffa-dd83-4f43-fad6-ba9b26024919"
      },
      "execution_count": null,
      "outputs": [
        {
          "output_type": "stream",
          "name": "stdout",
          "text": [
            "[[-4  6  8 11 16 18]\n",
            " [ 9  3  1 90 37 81]\n",
            " [ 1  8  5 61 48 75]]\n"
          ]
        }
      ]
    },
    {
      "cell_type": "code",
      "source": [
        "def concatenate(a, b):\n",
        "  return np.concatenate((a,b),axis=0)\n",
        "\n",
        "print(concatenate(a, b))"
      ],
      "metadata": {
        "colab": {
          "base_uri": "https://localhost:8080/"
        },
        "id": "pZpAK5nWkXtr",
        "outputId": "e3b0418c-e8d2-4d85-e0fb-00767657ad5b"
      },
      "execution_count": null,
      "outputs": [
        {
          "output_type": "stream",
          "name": "stdout",
          "text": [
            "[[-4  6  8]\n",
            " [ 9  3  1]\n",
            " [ 1  8  5]\n",
            " [11 16 18]\n",
            " [90 37 81]\n",
            " [61 48 75]]\n"
          ]
        }
      ]
    },
    {
      "cell_type": "code",
      "source": [
        "def concatenate(a, b):\n",
        "  return np.vstack((a,b))\n",
        "\n",
        "print(concatenate(a, b))"
      ],
      "metadata": {
        "colab": {
          "base_uri": "https://localhost:8080/"
        },
        "id": "o8l5G4vNl6pT",
        "outputId": "1fcfab10-11b6-451c-8981-d2d2d8b479da"
      },
      "execution_count": null,
      "outputs": [
        {
          "output_type": "stream",
          "name": "stdout",
          "text": [
            "[[-4  6  8]\n",
            " [ 9  3  1]\n",
            " [ 1  8  5]\n",
            " [11 16 18]\n",
            " [90 37 81]\n",
            " [61 48 75]]\n"
          ]
        }
      ]
    },
    {
      "cell_type": "code",
      "source": [
        "def concatenate(a, b):\n",
        "  return np.hstack((a,b))\n",
        "\n",
        "print(concatenate(a, b))"
      ],
      "metadata": {
        "colab": {
          "base_uri": "https://localhost:8080/"
        },
        "id": "6m6Fjj-bmnBH",
        "outputId": "7ed968dd-d632-4f9b-faea-f292d8d6fe2f"
      },
      "execution_count": null,
      "outputs": [
        {
          "output_type": "stream",
          "name": "stdout",
          "text": [
            "[[-4  6  8 11 16 18]\n",
            " [ 9  3  1 90 37 81]\n",
            " [ 1  8  5 61 48 75]]\n"
          ]
        }
      ]
    },
    {
      "cell_type": "markdown",
      "source": [
        "### Reshaping arrays\n",
        "- the number of dimensions of the array\n",
        "-  shape of n-dimensional array as a tuple with n elements s.t. $i^{th}$ element is the length of the $i^{th}$ dimension of the array\n",
        "- total number of elements of the array\n",
        "- reshapes the array\n",
        "- flattens multidimensional array into a 1D array\n",
        "- adds new dimensions to the array"
      ],
      "metadata": {
        "id": "aY0j33z2EjNx"
      }
    },
    {
      "cell_type": "code",
      "source": [
        "a = np.array([[4,6,8], [9, 3, 1], [1, 8, 5]])"
      ],
      "metadata": {
        "id": "sStUkoh1FG4N"
      },
      "execution_count": null,
      "outputs": []
    },
    {
      "cell_type": "code",
      "source": [
        "# Write a NumPy function to get the Number of dimensions\n",
        "\n",
        "# Write a NumPy function to get the Shape of the array\n",
        "\n",
        "# Write a NumPy function to get the Size of the array\n"
      ],
      "metadata": {
        "id": "vb35oi57Ev1f"
      },
      "execution_count": null,
      "outputs": []
    },
    {
      "cell_type": "code",
      "source": [
        "print(a.ndim)"
      ],
      "metadata": {
        "colab": {
          "base_uri": "https://localhost:8080/"
        },
        "id": "ZD7MQxQGmzqE",
        "outputId": "f42a7d94-cede-4c75-8f5f-21c42a236de9"
      },
      "execution_count": null,
      "outputs": [
        {
          "output_type": "stream",
          "name": "stdout",
          "text": [
            "2\n"
          ]
        }
      ]
    },
    {
      "cell_type": "code",
      "source": [
        "print(a.shape)"
      ],
      "metadata": {
        "colab": {
          "base_uri": "https://localhost:8080/"
        },
        "id": "9dZhCMkymzkS",
        "outputId": "b86a60a1-5113-4718-fbe0-2fbca28ad084"
      },
      "execution_count": null,
      "outputs": [
        {
          "output_type": "stream",
          "name": "stdout",
          "text": [
            "(3, 3)\n"
          ]
        }
      ]
    },
    {
      "cell_type": "code",
      "source": [
        "print(a.size)"
      ],
      "metadata": {
        "colab": {
          "base_uri": "https://localhost:8080/"
        },
        "id": "fk4VTJ8EmzYm",
        "outputId": "b6b81b81-738f-42e1-d6d8-c030e49ecb6a"
      },
      "execution_count": null,
      "outputs": [
        {
          "output_type": "stream",
          "name": "stdout",
          "text": [
            "9\n"
          ]
        }
      ]
    },
    {
      "cell_type": "code",
      "source": [
        "# Write a NumPy function to Reshape the array 'a' to the dimension (1,9)\n"
      ],
      "metadata": {
        "id": "MznU0NWKE54c"
      },
      "execution_count": null,
      "outputs": []
    },
    {
      "cell_type": "code",
      "source": [
        "print(a.reshape(-1))"
      ],
      "metadata": {
        "colab": {
          "base_uri": "https://localhost:8080/"
        },
        "id": "xdcbS0kKm0I-",
        "outputId": "045f167d-a9f0-42d9-9f37-916cbd384c0d"
      },
      "execution_count": null,
      "outputs": [
        {
          "output_type": "stream",
          "name": "stdout",
          "text": [
            "[4 6 8 9 3 1 1 8 5]\n"
          ]
        }
      ]
    },
    {
      "cell_type": "code",
      "source": [
        "# Write a NumPy function to add a new axis to the array 'a'\n",
        "# Note : Show atleast two different ways of doing this\n"
      ],
      "metadata": {
        "id": "p1dlxcNYE8tv"
      },
      "execution_count": null,
      "outputs": []
    },
    {
      "cell_type": "code",
      "source": [
        "print(np.expand_dims(a,axis=0))"
      ],
      "metadata": {
        "colab": {
          "base_uri": "https://localhost:8080/"
        },
        "id": "TGYEHxGwm0oY",
        "outputId": "3fbb94a4-1c13-4203-8d5f-deadc8baf2d4"
      },
      "execution_count": null,
      "outputs": [
        {
          "output_type": "stream",
          "name": "stdout",
          "text": [
            "[[[4 6 8]\n",
            "  [9 3 1]\n",
            "  [1 8 5]]]\n"
          ]
        }
      ]
    },
    {
      "cell_type": "code",
      "source": [
        "print(np.expand_dims(a,axis=1))"
      ],
      "metadata": {
        "colab": {
          "base_uri": "https://localhost:8080/"
        },
        "id": "vxxyIE6Pm0lA",
        "outputId": "b8b4fd05-48cb-469e-b1e1-033e3f07bc1e"
      },
      "execution_count": null,
      "outputs": [
        {
          "output_type": "stream",
          "name": "stdout",
          "text": [
            "[[[4 6 8]]\n",
            "\n",
            " [[9 3 1]]\n",
            "\n",
            " [[1 8 5]]]\n"
          ]
        }
      ]
    },
    {
      "cell_type": "markdown",
      "source": [
        "### Indexing and slicing\n",
        "- NumPy allows indexing array using tuple of nonnegative integers, booleans, array or integers"
      ],
      "metadata": {
        "id": "Ng4xWkwpFtao"
      }
    },
    {
      "cell_type": "code",
      "source": [
        "a = np.array([[4,6,0], [0, 3, 1], [1, 8, 5]])"
      ],
      "metadata": {
        "id": "swrtOhPGGB7r"
      },
      "execution_count": null,
      "outputs": []
    },
    {
      "cell_type": "code",
      "source": [
        "# Write a NumPy function to index and slice NumPy arrays similar to Python lists\n",
        "# Show all three - indexing by a integer, indexing by a tuple, using range\n"
      ],
      "metadata": {
        "id": "w3QaVYRyFs77"
      },
      "execution_count": null,
      "outputs": []
    },
    {
      "cell_type": "code",
      "source": [
        "print(a[2,1])"
      ],
      "metadata": {
        "colab": {
          "base_uri": "https://localhost:8080/"
        },
        "id": "JnA2OhMsoMm7",
        "outputId": "3e2acd3e-61cd-4dc1-a142-00a36f8c2c1f"
      },
      "execution_count": null,
      "outputs": [
        {
          "output_type": "stream",
          "name": "stdout",
          "text": [
            "8\n"
          ]
        }
      ]
    },
    {
      "cell_type": "code",
      "source": [
        "print(a[(2,1)])"
      ],
      "metadata": {
        "colab": {
          "base_uri": "https://localhost:8080/"
        },
        "id": "h0XtAfyuocss",
        "outputId": "de9a1d7a-a7a9-4ff2-d1d2-6f8e3f5e52cd"
      },
      "execution_count": null,
      "outputs": [
        {
          "output_type": "stream",
          "name": "stdout",
          "text": [
            "8\n"
          ]
        }
      ]
    },
    {
      "cell_type": "code",
      "source": [
        "print(a[2:3,1:2])"
      ],
      "metadata": {
        "colab": {
          "base_uri": "https://localhost:8080/"
        },
        "id": "GBkTY-tSoMdn",
        "outputId": "b0e93ffd-3eda-49fe-80c8-6f17c5bd589f"
      },
      "execution_count": null,
      "outputs": [
        {
          "output_type": "stream",
          "name": "stdout",
          "text": [
            "[[8]]\n"
          ]
        }
      ]
    },
    {
      "cell_type": "code",
      "source": [
        "# Write a NumPy function to select values satisfying a specific condition like Values greater than 4\n",
        "\n",
        "# Write a NumPy function to select values satisfying mulitple conditions like Values greater than 4 and divisible by 2\n"
      ],
      "metadata": {
        "id": "Xn2_z5h-Fmrd"
      },
      "execution_count": null,
      "outputs": []
    },
    {
      "cell_type": "code",
      "source": [
        "def selection(arr):\n",
        "    greater_than_4 = arr > 4\n",
        "\n",
        "    selected_values = arr[greater_than_4]\n",
        "\n",
        "    return selected_values\n",
        "\n",
        "arr = np.array([1, 2, 3, 4, 5, 6, 7, 8, 9, 10])\n",
        "selection(arr)"
      ],
      "metadata": {
        "colab": {
          "base_uri": "https://localhost:8080/"
        },
        "id": "yw9Yk0Q2uYrR",
        "outputId": "84c2d11f-887d-4336-e0e0-930d1347d061"
      },
      "execution_count": null,
      "outputs": [
        {
          "output_type": "execute_result",
          "data": {
            "text/plain": [
              "array([ 5,  6,  7,  8,  9, 10])"
            ]
          },
          "metadata": {},
          "execution_count": 107
        }
      ]
    },
    {
      "cell_type": "code",
      "source": [
        "def selection(arr):\n",
        "    greater_than_4 = arr > 4\n",
        "    divisible_by_2 = arr % 2 == 0\n",
        "\n",
        "    selected_values = arr[greater_than_4 & divisible_by_2]\n",
        "\n",
        "    return selected_values\n",
        "\n",
        "arr = np.array([1, 2, 3, 4, 5, 6, 7, 8, 9, 10])\n",
        "selection(arr)"
      ],
      "metadata": {
        "colab": {
          "base_uri": "https://localhost:8080/"
        },
        "id": "ey3IDsojwVqQ",
        "outputId": "a5accd54-cfd5-4678-b676-b42705191a17"
      },
      "execution_count": null,
      "outputs": [
        {
          "output_type": "execute_result",
          "data": {
            "text/plain": [
              "array([ 6,  8, 10])"
            ]
          },
          "metadata": {},
          "execution_count": 108
        }
      ]
    },
    {
      "cell_type": "markdown",
      "source": [
        "### Copying arrays\n",
        "- new array object with a copy of the data\n",
        "- Changes made in the copy array is not reflected in the original array"
      ],
      "metadata": {
        "id": "GWU0EfaAG2ll"
      }
    },
    {
      "cell_type": "code",
      "source": [
        "a = np.array([[4,6,0], [0, 3, 1], [1, 8, 5]])"
      ],
      "metadata": {
        "id": "ijdgy02lHMJW"
      },
      "execution_count": null,
      "outputs": []
    },
    {
      "cell_type": "code",
      "source": [
        "# Write a NumPy function to copy the array 'a' and finally print an array where all elements are increased by 1\n"
      ],
      "metadata": {
        "id": "FmgUdh66GuQH"
      },
      "execution_count": null,
      "outputs": []
    },
    {
      "cell_type": "code",
      "source": [
        "b = np.copy(a)\n",
        "b= b+1\n",
        "print(b)"
      ],
      "metadata": {
        "colab": {
          "base_uri": "https://localhost:8080/"
        },
        "id": "fcL7JsQ4fMHP",
        "outputId": "d4e79543-ed9d-416c-8c70-6c112510f04c"
      },
      "execution_count": null,
      "outputs": [
        {
          "output_type": "stream",
          "name": "stdout",
          "text": [
            "[[5 7 1]\n",
            " [1 4 2]\n",
            " [2 9 6]]\n"
          ]
        }
      ]
    },
    {
      "cell_type": "markdown",
      "source": [
        "## Pandas ( Python Data Analysis Library)\n",
        "\n",
        "### Main Features\n",
        "- Easy handling of missing data in both floating point and non-floating point data.\n",
        "- Automatic and explicit data alignment, making it easy to perform computations and transformations on data sets.\n",
        "\n"
      ],
      "metadata": {
        "id": "M1KLD5QxHsVw"
      }
    },
    {
      "cell_type": "markdown",
      "source": [
        "#### Generating the dataset"
      ],
      "metadata": {
        "id": "v1CuU3FeIq1a"
      }
    },
    {
      "cell_type": "markdown",
      "source": [
        "Run the following load command to get the 2-Dim iris dataset. Do the following operations on it and please dont edit this cell"
      ],
      "metadata": {
        "id": "fp36ZqOMIy7k"
      }
    },
    {
      "cell_type": "code",
      "source": [
        "url = 'https://archive.ics.uci.edu/ml/machine-learning-databases/iris/iris.data'\n",
        "iris_2d = np.genfromtxt(url, delimiter=',', dtype='float', usecols=[0,1,2,3])"
      ],
      "metadata": {
        "id": "A_O5RTBXIyK-"
      },
      "execution_count": 3,
      "outputs": []
    },
    {
      "cell_type": "markdown",
      "source": [
        "#### Basic Data Analysis"
      ],
      "metadata": {
        "id": "EILb6pPrS8Ju"
      }
    },
    {
      "cell_type": "code",
      "source": [
        "# Write a Pandas function to drop rows that contain a missing value.\n"
      ],
      "metadata": {
        "id": "bViO1LLoI7sz"
      },
      "execution_count": null,
      "outputs": []
    },
    {
      "cell_type": "code",
      "source": [
        "import pandas as pd"
      ],
      "metadata": {
        "id": "z3P4wui41jSB"
      },
      "execution_count": 5,
      "outputs": []
    },
    {
      "cell_type": "code",
      "source": [
        "df = pd.DataFrame(iris_2d)\n",
        "new_df = df.dropna()\n",
        "\n",
        "print(new_df.to_string())"
      ],
      "metadata": {
        "colab": {
          "base_uri": "https://localhost:8080/"
        },
        "collapsed": true,
        "id": "5rVYyOw80pW7",
        "outputId": "aab1f982-92e2-408b-c936-35db99ff3dce"
      },
      "execution_count": 11,
      "outputs": [
        {
          "output_type": "stream",
          "name": "stdout",
          "text": [
            "       0    1    2    3\n",
            "0    5.1  3.5  1.4  0.2\n",
            "1    4.9  3.0  1.4  0.2\n",
            "2    4.7  3.2  1.3  0.2\n",
            "3    4.6  3.1  1.5  0.2\n",
            "4    5.0  3.6  1.4  0.2\n",
            "5    5.4  3.9  1.7  0.4\n",
            "6    4.6  3.4  1.4  0.3\n",
            "7    5.0  3.4  1.5  0.2\n",
            "8    4.4  2.9  1.4  0.2\n",
            "9    4.9  3.1  1.5  0.1\n",
            "10   5.4  3.7  1.5  0.2\n",
            "11   4.8  3.4  1.6  0.2\n",
            "12   4.8  3.0  1.4  0.1\n",
            "13   4.3  3.0  1.1  0.1\n",
            "14   5.8  4.0  1.2  0.2\n",
            "15   5.7  4.4  1.5  0.4\n",
            "16   5.4  3.9  1.3  0.4\n",
            "17   5.1  3.5  1.4  0.3\n",
            "18   5.7  3.8  1.7  0.3\n",
            "19   5.1  3.8  1.5  0.3\n",
            "20   5.4  3.4  1.7  0.2\n",
            "21   5.1  3.7  1.5  0.4\n",
            "22   4.6  3.6  1.0  0.2\n",
            "23   5.1  3.3  1.7  0.5\n",
            "24   4.8  3.4  1.9  0.2\n",
            "25   5.0  3.0  1.6  0.2\n",
            "26   5.0  3.4  1.6  0.4\n",
            "27   5.2  3.5  1.5  0.2\n",
            "28   5.2  3.4  1.4  0.2\n",
            "29   4.7  3.2  1.6  0.2\n",
            "30   4.8  3.1  1.6  0.2\n",
            "31   5.4  3.4  1.5  0.4\n",
            "32   5.2  4.1  1.5  0.1\n",
            "33   5.5  4.2  1.4  0.2\n",
            "34   4.9  3.1  1.5  0.1\n",
            "35   5.0  3.2  1.2  0.2\n",
            "36   5.5  3.5  1.3  0.2\n",
            "37   4.9  3.1  1.5  0.1\n",
            "38   4.4  3.0  1.3  0.2\n",
            "39   5.1  3.4  1.5  0.2\n",
            "40   5.0  3.5  1.3  0.3\n",
            "41   4.5  2.3  1.3  0.3\n",
            "42   4.4  3.2  1.3  0.2\n",
            "43   5.0  3.5  1.6  0.6\n",
            "44   5.1  3.8  1.9  0.4\n",
            "45   4.8  3.0  1.4  0.3\n",
            "46   5.1  3.8  1.6  0.2\n",
            "47   4.6  3.2  1.4  0.2\n",
            "48   5.3  3.7  1.5  0.2\n",
            "49   5.0  3.3  1.4  0.2\n",
            "50   7.0  3.2  4.7  1.4\n",
            "51   6.4  3.2  4.5  1.5\n",
            "52   6.9  3.1  4.9  1.5\n",
            "53   5.5  2.3  4.0  1.3\n",
            "54   6.5  2.8  4.6  1.5\n",
            "55   5.7  2.8  4.5  1.3\n",
            "56   6.3  3.3  4.7  1.6\n",
            "57   4.9  2.4  3.3  1.0\n",
            "58   6.6  2.9  4.6  1.3\n",
            "59   5.2  2.7  3.9  1.4\n",
            "60   5.0  2.0  3.5  1.0\n",
            "61   5.9  3.0  4.2  1.5\n",
            "62   6.0  2.2  4.0  1.0\n",
            "63   6.1  2.9  4.7  1.4\n",
            "64   5.6  2.9  3.6  1.3\n",
            "65   6.7  3.1  4.4  1.4\n",
            "66   5.6  3.0  4.5  1.5\n",
            "67   5.8  2.7  4.1  1.0\n",
            "68   6.2  2.2  4.5  1.5\n",
            "69   5.6  2.5  3.9  1.1\n",
            "70   5.9  3.2  4.8  1.8\n",
            "71   6.1  2.8  4.0  1.3\n",
            "72   6.3  2.5  4.9  1.5\n",
            "73   6.1  2.8  4.7  1.2\n",
            "74   6.4  2.9  4.3  1.3\n",
            "75   6.6  3.0  4.4  1.4\n",
            "76   6.8  2.8  4.8  1.4\n",
            "77   6.7  3.0  5.0  1.7\n",
            "78   6.0  2.9  4.5  1.5\n",
            "79   5.7  2.6  3.5  1.0\n",
            "80   5.5  2.4  3.8  1.1\n",
            "81   5.5  2.4  3.7  1.0\n",
            "82   5.8  2.7  3.9  1.2\n",
            "83   6.0  2.7  5.1  1.6\n",
            "84   5.4  3.0  4.5  1.5\n",
            "85   6.0  3.4  4.5  1.6\n",
            "86   6.7  3.1  4.7  1.5\n",
            "87   6.3  2.3  4.4  1.3\n",
            "88   5.6  3.0  4.1  1.3\n",
            "89   5.5  2.5  4.0  1.3\n",
            "90   5.5  2.6  4.4  1.2\n",
            "91   6.1  3.0  4.6  1.4\n",
            "92   5.8  2.6  4.0  1.2\n",
            "93   5.0  2.3  3.3  1.0\n",
            "94   5.6  2.7  4.2  1.3\n",
            "95   5.7  3.0  4.2  1.2\n",
            "96   5.7  2.9  4.2  1.3\n",
            "97   6.2  2.9  4.3  1.3\n",
            "98   5.1  2.5  3.0  1.1\n",
            "99   5.7  2.8  4.1  1.3\n",
            "100  6.3  3.3  6.0  2.5\n",
            "101  5.8  2.7  5.1  1.9\n",
            "102  7.1  3.0  5.9  2.1\n",
            "103  6.3  2.9  5.6  1.8\n",
            "104  6.5  3.0  5.8  2.2\n",
            "105  7.6  3.0  6.6  2.1\n",
            "106  4.9  2.5  4.5  1.7\n",
            "107  7.3  2.9  6.3  1.8\n",
            "108  6.7  2.5  5.8  1.8\n",
            "109  7.2  3.6  6.1  2.5\n",
            "110  6.5  3.2  5.1  2.0\n",
            "111  6.4  2.7  5.3  1.9\n",
            "112  6.8  3.0  5.5  2.1\n",
            "113  5.7  2.5  5.0  2.0\n",
            "114  5.8  2.8  5.1  2.4\n",
            "115  6.4  3.2  5.3  2.3\n",
            "116  6.5  3.0  5.5  1.8\n",
            "117  7.7  3.8  6.7  2.2\n",
            "118  7.7  2.6  6.9  2.3\n",
            "119  6.0  2.2  5.0  1.5\n",
            "120  6.9  3.2  5.7  2.3\n",
            "121  5.6  2.8  4.9  2.0\n",
            "122  7.7  2.8  6.7  2.0\n",
            "123  6.3  2.7  4.9  1.8\n",
            "124  6.7  3.3  5.7  2.1\n",
            "125  7.2  3.2  6.0  1.8\n",
            "126  6.2  2.8  4.8  1.8\n",
            "127  6.1  3.0  4.9  1.8\n",
            "128  6.4  2.8  5.6  2.1\n",
            "129  7.2  3.0  5.8  1.6\n",
            "130  7.4  2.8  6.1  1.9\n",
            "131  7.9  3.8  6.4  2.0\n",
            "132  6.4  2.8  5.6  2.2\n",
            "133  6.3  2.8  5.1  1.5\n",
            "134  6.1  2.6  5.6  1.4\n",
            "135  7.7  3.0  6.1  2.3\n",
            "136  6.3  3.4  5.6  2.4\n",
            "137  6.4  3.1  5.5  1.8\n",
            "138  6.0  3.0  4.8  1.8\n",
            "139  6.9  3.1  5.4  2.1\n",
            "140  6.7  3.1  5.6  2.4\n",
            "141  6.9  3.1  5.1  2.3\n",
            "142  5.8  2.7  5.1  1.9\n",
            "143  6.8  3.2  5.9  2.3\n",
            "144  6.7  3.3  5.7  2.5\n",
            "145  6.7  3.0  5.2  2.3\n",
            "146  6.3  2.5  5.0  1.9\n",
            "147  6.5  3.0  5.2  2.0\n",
            "148  6.2  3.4  5.4  2.3\n",
            "149  5.9  3.0  5.1  1.8\n"
          ]
        }
      ]
    },
    {
      "cell_type": "code",
      "source": [
        "# Write a Pandas function to find the correlation between the first two columns.\n"
      ],
      "metadata": {
        "id": "zp_BYv5EJDjJ"
      },
      "execution_count": null,
      "outputs": []
    },
    {
      "cell_type": "code",
      "source": [
        "first = df.iloc[:, 0]\n",
        "second = df.iloc[:, 1]\n",
        "\n",
        "correlation = first.corr(second)\n",
        "print(correlation)"
      ],
      "metadata": {
        "colab": {
          "base_uri": "https://localhost:8080/"
        },
        "id": "ecHy-Hs6142k",
        "outputId": "3f17bbf0-7d1f-4e64-f96c-72f7f1471fe4"
      },
      "execution_count": 17,
      "outputs": [
        {
          "output_type": "stream",
          "name": "stdout",
          "text": [
            "-0.10936924995064937\n"
          ]
        }
      ]
    },
    {
      "cell_type": "code",
      "source": [
        "# Write a Pandas function to find the mean, median and standard deviation of column 3.\n"
      ],
      "metadata": {
        "id": "0mjeoZCwJDoW"
      },
      "execution_count": null,
      "outputs": []
    },
    {
      "cell_type": "code",
      "source": [
        "third = df.iloc[:, 2]\n",
        "\n",
        "mean = third.mean()\n",
        "median = third.median()\n",
        "std = third.std()\n",
        "\n",
        "print(f\"Mean: {mean}\\nMedian: {median}\\nStandard Deviation: {std}\")"
      ],
      "metadata": {
        "colab": {
          "base_uri": "https://localhost:8080/"
        },
        "id": "10u5Dwwe2EjR",
        "outputId": "f4b77223-5aa1-44f0-880e-4c850760d7f8"
      },
      "execution_count": 8,
      "outputs": [
        {
          "output_type": "stream",
          "name": "stdout",
          "text": [
            "Mean: 3.758666666666666\n",
            "Median: 4.35\n",
            "Standard Deviation: 1.7644204199522617\n"
          ]
        }
      ]
    },
    {
      "cell_type": "code",
      "source": [
        "# Write a Pandas function to create a new column for volume in iris_2d, where volume is (pi x petallength x sepal_length^2)/3\n",
        "# Hints:\n",
        "# 1. Introduce new dimension to match iris_2d's\n",
        "# 2. Add the new column"
      ],
      "metadata": {
        "id": "bRiYEhWTJDrM"
      },
      "execution_count": null,
      "outputs": []
    },
    {
      "cell_type": "code",
      "source": [
        "import math"
      ],
      "metadata": {
        "id": "N4wCp6pI69B8"
      },
      "execution_count": 14,
      "outputs": []
    },
    {
      "cell_type": "code",
      "source": [
        "\n",
        "np.expand_dims(iris_2d,axis=0)\n",
        "#taking first as petallength and second as sepal length\n",
        "df[4]=((math.pi * first * second**2)/3)\n",
        "print(df)"
      ],
      "metadata": {
        "colab": {
          "base_uri": "https://localhost:8080/"
        },
        "id": "Sj7OtFtE4Nlq",
        "outputId": "cc5884ad-7bee-4e5f-9c76-af60e4842c4f"
      },
      "execution_count": 21,
      "outputs": [
        {
          "output_type": "stream",
          "name": "stdout",
          "text": [
            "       0    1    2    3          4\n",
            "0    5.1  3.5  1.4  0.2  65.423667\n",
            "1    4.9  3.0  1.4  0.2  46.181412\n",
            "2    4.7  3.2  1.3  0.2  50.399524\n",
            "3    4.6  3.1  1.5  0.2  46.292415\n",
            "4    5.0  3.6  1.4  0.2  67.858401\n",
            "..   ...  ...  ...  ...        ...\n",
            "145  6.7  3.0  5.2  2.3  63.146012\n",
            "146  6.3  2.5  5.0  1.9  41.233404\n",
            "147  6.5  3.0  5.2  2.0  61.261057\n",
            "148  6.2  3.4  5.4  2.3  75.054743\n",
            "149  5.9  3.0  5.1  1.8  55.606190\n",
            "\n",
            "[150 rows x 5 columns]\n"
          ]
        }
      ]
    },
    {
      "cell_type": "markdown",
      "source": [
        "# Section B *(2 Marks each)*"
      ],
      "metadata": {
        "id": "dGqrG93ELEQ3"
      }
    },
    {
      "cell_type": "markdown",
      "source": [
        "###NumPy"
      ],
      "metadata": {
        "id": "OLm8jv7tMH6h"
      }
    },
    {
      "cell_type": "markdown",
      "source": [
        "Q1 Let x = np.arange(4, dtype=np.int64). Create an array of ones with the same shape and type as X."
      ],
      "metadata": {
        "id": "zE1n0x7ZLRLU"
      }
    },
    {
      "cell_type": "code",
      "source": [
        " x = np.ones(4, dtype=np.int64)\n",
        " print(x)\n"
      ],
      "metadata": {
        "id": "H8o9C6b7LJzA",
        "colab": {
          "base_uri": "https://localhost:8080/"
        },
        "outputId": "184688ca-c4a6-43a1-b4c4-491b9ce0e84c"
      },
      "execution_count": 26,
      "outputs": [
        {
          "output_type": "stream",
          "name": "stdout",
          "text": [
            "[1 1 1 1]\n"
          ]
        }
      ]
    },
    {
      "cell_type": "markdown",
      "source": [
        "Q2 Let x be an array [1, 2, 3, ..., 9]. Split x into 3 arrays, each of which has 4, 2, and 3 elements in the original order."
      ],
      "metadata": {
        "id": "PPYeTqoHLSNj"
      }
    },
    {
      "cell_type": "code",
      "source": [
        "x = np.arange(1,10)\n",
        "print(np.split(x,[4,6]))"
      ],
      "metadata": {
        "id": "DS9mr30LLYdg",
        "colab": {
          "base_uri": "https://localhost:8080/"
        },
        "outputId": "12a26a19-23cd-4a57-8efd-38b241a93a74"
      },
      "execution_count": 29,
      "outputs": [
        {
          "output_type": "stream",
          "name": "stdout",
          "text": [
            "[array([1, 2, 3, 4]), array([5, 6]), array([7, 8, 9])]\n"
          ]
        }
      ]
    },
    {
      "cell_type": "markdown",
      "source": [
        "Q3 Initiate x as a 2x5 array with random values from 0 to 10(not inclusive).Get the maximum and minimum values and their indices of x along the second axis."
      ],
      "metadata": {
        "id": "b1wJaooRLXjN"
      }
    },
    {
      "cell_type": "code",
      "source": [
        "x = np.random.randint(0,10,(2,5))\n",
        "print(x)\n",
        "print(f\"MAX: {np.max(x,axis=1)}\")\n",
        "print(f\"INDI: {np.argmax(x,axis=1)}\\n\")\n",
        "\n",
        "print(f\"MAX: {np.min(x,axis=1)}\")\n",
        "print(f\"INDI: {np.argmin(x,axis=1)}\")\n",
        "\n"
      ],
      "metadata": {
        "id": "GnXDqksjLf89",
        "colab": {
          "base_uri": "https://localhost:8080/"
        },
        "outputId": "17c007e5-80b4-4a68-eace-eda893c98915"
      },
      "execution_count": 37,
      "outputs": [
        {
          "output_type": "stream",
          "name": "stdout",
          "text": [
            "[[8 7 8 5 1]\n",
            " [8 3 3 3 5]]\n",
            "MAX: [8 8]\n",
            "INDI: [0 0]\n",
            "\n",
            "MAX: [1 3]\n",
            "INDI: [4 1]\n"
          ]
        }
      ]
    },
    {
      "cell_type": "markdown",
      "source": [
        "### Pandas"
      ],
      "metadata": {
        "id": "8_Q7fbyxMMHM"
      }
    },
    {
      "cell_type": "markdown",
      "source": [
        "Run the following load command and solve the following questions"
      ],
      "metadata": {
        "id": "3QpaFHkxJUho"
      }
    },
    {
      "cell_type": "code",
      "source": [
        "url = 'https://archive.ics.uci.edu/ml/machine-learning-databases/iris/iris.data'\n",
        "iris = np.genfromtxt(url, delimiter=',', dtype='object')\n",
        "names = ('sepallength', 'sepalwidth', 'petallength', 'petalwidth', 'species')"
      ],
      "metadata": {
        "id": "mLdcY49iJDtl"
      },
      "execution_count": 39,
      "outputs": []
    },
    {
      "cell_type": "markdown",
      "source": [
        "Q4 Write a Pandas function to find the count of unique species."
      ],
      "metadata": {
        "id": "zbDepnx9RtV8"
      }
    },
    {
      "cell_type": "code",
      "source": [
        "def unique_count(df,column):\n",
        "  return df[column].nunique()\n",
        "\n",
        "df = pd.DataFrame(iris,columns=names)\n",
        "print(unique_count(df,\"species\"))"
      ],
      "metadata": {
        "id": "oAkO0UnqJDv7",
        "colab": {
          "base_uri": "https://localhost:8080/"
        },
        "outputId": "3d2b4054-c6f1-48fa-dbbc-b21c775dcdd5"
      },
      "execution_count": 44,
      "outputs": [
        {
          "output_type": "stream",
          "name": "stdout",
          "text": [
            "3\n"
          ]
        }
      ]
    },
    {
      "cell_type": "markdown",
      "source": [
        "# Q5 Write a Pandas function to bin the petal length (3rd) column of iris_2d to form a text array, such that if petal length is:\n",
        "- Less than 3 –> ‘small’\n",
        "- 3-5 –> ‘medium’\n",
        "- greater than equal to 5 –> ‘large’"
      ],
      "metadata": {
        "id": "Usj5HlvyRxal"
      }
    },
    {
      "cell_type": "code",
      "source": [
        "size = []\n",
        "float_arr = df[\"petallength\"].astype(float)\n",
        "\n",
        "for i in float_arr:\n",
        "    if (i) < 3:\n",
        "        size.append(\"small\")\n",
        "    elif 3 <= i <= 5:\n",
        "        size.append(\"medium\")\n",
        "    else:\n",
        "        size.append(\"large\")\n",
        "\n",
        "\n",
        "size = np.array(size)\n",
        "df[\"size\"] = size\n",
        "print(df)"
      ],
      "metadata": {
        "id": "gTWWJoLMJDxx",
        "colab": {
          "base_uri": "https://localhost:8080/"
        },
        "outputId": "e2791c93-d82c-4670-a718-1475e2964938"
      },
      "execution_count": 67,
      "outputs": [
        {
          "output_type": "stream",
          "name": "stdout",
          "text": [
            "    sepallength sepalwidth petallength petalwidth            species    size\n",
            "0        b'5.1'     b'3.5'      b'1.4'     b'0.2'     b'Iris-setosa'   small\n",
            "1        b'4.9'     b'3.0'      b'1.4'     b'0.2'     b'Iris-setosa'   small\n",
            "2        b'4.7'     b'3.2'      b'1.3'     b'0.2'     b'Iris-setosa'   small\n",
            "3        b'4.6'     b'3.1'      b'1.5'     b'0.2'     b'Iris-setosa'   small\n",
            "4        b'5.0'     b'3.6'      b'1.4'     b'0.2'     b'Iris-setosa'   small\n",
            "..          ...        ...         ...        ...                ...     ...\n",
            "145      b'6.7'     b'3.0'      b'5.2'     b'2.3'  b'Iris-virginica'   large\n",
            "146      b'6.3'     b'2.5'      b'5.0'     b'1.9'  b'Iris-virginica'  medium\n",
            "147      b'6.5'     b'3.0'      b'5.2'     b'2.0'  b'Iris-virginica'   large\n",
            "148      b'6.2'     b'3.4'      b'5.4'     b'2.3'  b'Iris-virginica'   large\n",
            "149      b'5.9'     b'3.0'      b'5.1'     b'1.8'  b'Iris-virginica'   large\n",
            "\n",
            "[150 rows x 6 columns]\n"
          ]
        }
      ]
    },
    {
      "cell_type": "markdown",
      "source": [
        "Q6 Write a Pandas function to find the most frequent value of petal length (3rd column) in iris dataset"
      ],
      "metadata": {
        "id": "IbBYP_8sSBrB"
      }
    },
    {
      "cell_type": "code",
      "source": [
        "def most_freq(df,column):\n",
        "  return df[column].mode(0)\n",
        "\n",
        "print(most_freq(df,\"petallength\"))"
      ],
      "metadata": {
        "id": "DNk_tlVWJufR",
        "colab": {
          "base_uri": "https://localhost:8080/"
        },
        "outputId": "7cfdca94-faa3-40d8-c3f8-bed9c611949a"
      },
      "execution_count": 47,
      "outputs": [
        {
          "output_type": "stream",
          "name": "stdout",
          "text": [
            "0    b'1.5'\n",
            "Name: petallength, dtype: object\n"
          ]
        }
      ]
    }
  ]
}