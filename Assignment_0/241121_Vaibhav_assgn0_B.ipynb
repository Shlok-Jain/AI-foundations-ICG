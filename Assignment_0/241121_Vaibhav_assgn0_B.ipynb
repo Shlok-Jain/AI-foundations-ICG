{
 "cells": [
  {
   "cell_type": "markdown",
   "metadata": {
    "id": "CHn-ZDDlcyEq"
   },
   "source": [
    "# Simple application of essential python libraries\n",
    "\n",
    "Get an intuitive and applicative understanding of numpy, pandas and matplotlib by using these libraries to play with data often found in real life applications.\n",
    "\n",
    "This book is for understanding the libraries, so make sure to experiment as much as you can, you dont have to stick to exactly what is asked.\n",
    "\n",
    "Guidelines:\n",
    "\n",
    "*   Fill the codeblocks according to the comments given\n",
    "*   Hints are given wherever required\n",
    "*   Your first debugging step should be to print errors to identify the issue.Understand why it went wrong by analyzing the outputs and error messages. Adjust your code to fix the problem systematically.\n",
    "*   If stuck, you're welcome to utilize any online resources, and feel free to ask doubts in the group!\n"
   ]
  },
  {
   "cell_type": "code",
   "execution_count": 1,
   "metadata": {
    "collapsed": true,
    "id": "7WmBvBenXwt5"
   },
   "outputs": [],
   "source": [
    "#import necessary dependencies\n",
    "import urllib.request\n",
    "# ...other dependencies\n",
    "import pandas as pd\n",
    "import numpy as np\n",
    "import matplotlib.pyplot as plt"
   ]
  },
  {
   "cell_type": "markdown",
   "metadata": {
    "id": "T34ou7xFX_x5"
   },
   "source": [
    "##Data to work on"
   ]
  },
  {
   "cell_type": "code",
   "execution_count": 6,
   "metadata": {
    "colab": {
     "base_uri": "https://localhost:8080/"
    },
    "id": "n9RazLOrX8w-",
    "outputId": "39800b7e-14d2-41f0-e090-0ed892138da6"
   },
   "outputs": [
    {
     "data": {
      "text/plain": [
       "('airtravel.csv', <http.client.HTTPMessage at 0x79e8c76839a0>)"
      ]
     },
     "execution_count": 6,
     "metadata": {},
     "output_type": "execute_result"
    }
   ],
   "source": [
    "# Step 1: Load the dataset, dont focus on this part\n",
    "url = \"https://people.sc.fsu.edu/~jburkardt/data/csv/airtravel.csv\"\n",
    "filename = \"airtravel.csv\"\n",
    "urllib.request.urlretrieve(url, filename)"
   ]
  },
  {
   "cell_type": "markdown",
   "metadata": {
    "id": "N2Uccfa-YLXI"
   },
   "source": [
    "Where did this .csv file get saved? load it using pandas!"
   ]
  },
  {
   "cell_type": "code",
   "execution_count": 7,
   "metadata": {
    "id": "2YehcY4VYU8u"
   },
   "outputs": [],
   "source": [
    "#load the .csv file using pandas\n",
    "df=pd.read_csv(filename)\n",
    "\n",
    "#create an ndarray from this pandas df, but ignore the \"Month\" column (slicing, maybe?)\n",
    "iris = df.iloc[:,1:]\n"
   ]
  },
  {
   "cell_type": "code",
   "execution_count": 8,
   "metadata": {
    "id": "ZGTPlPRzYywE"
   },
   "outputs": [],
   "source": [
    "#Calculate the mean value across all three years for each month (mean_original) using an np function and return an ndarray consisting mean passengers for each month\n",
    "mean_original = np.mean(iris, axis=1)\n"
   ]
  },
  {
   "cell_type": "code",
   "execution_count": 10,
   "metadata": {
    "colab": {
     "base_uri": "https://localhost:8080/",
     "height": 430
    },
    "id": "CKlm7OvMZSYS",
    "outputId": "342e52f0-78ef-4e02-e6ae-43b93de98249"
   },
   "outputs": [
    {
     "data": {
      "image/png": "[encoded data removed]",
      "text/plain": [
       "<Figure size 640x480 with 1 Axes>"
      ]
     },
     "metadata": {},
     "output_type": "display_data"
    }
   ],
   "source": [
    "plt.bar(df[\"Month\"],mean_original)\n",
    "plt.show()"
   ]
  },
  {
   "cell_type": "markdown",
   "metadata": {
    "id": "Htv0CimJcktY"
   },
   "source": [
    "##Transforming data"
   ]
  },
  {
   "cell_type": "markdown",
   "metadata": {
    "id": "qjGDvQdhacpW"
   },
   "source": [
    "Let's visualize the data"
   ]
  },
  {
   "cell_type": "markdown",
   "metadata": {
    "id": "S7LCQnGJZSnc"
   },
   "source": [
    "Simulate a spike across the data"
   ]
  },
  {
   "cell_type": "code",
   "execution_count": null,
   "metadata": {
    "id": "uSRm_RUMY8y3"
   },
   "outputs": [],
   "source": [
    "#Simply create a list with the same shape as previous arrays, and fill it with data simulating a spike across months peaking at 100, width, number of peaks, etc. are upto you!\n",
    "\n",
    "\n",
    "#convert the list to a pandas series spike_series, and the mean_original to a pandas series also\n",
    "spike_series =\n",
    "original_series =\n",
    "\n",
    "#define a function called transform_orig() that adds spike_series element-wise to original_series (use .add())\n",
    "def transform_orig()\n",
    "\n",
    "#call the function and obtain a spiked_data series, and convert it back to a list\n",
    "\n"
   ]
  },
  {
   "cell_type": "markdown",
   "metadata": {
    "id": "YzbsA-6caMbe"
   },
   "source": [
    "Plot the new spiked_data across months to visualize the spike's impact on number of passengers"
   ]
  },
  {
   "cell_type": "code",
   "execution_count": null,
   "metadata": {
    "id": "fSBO8cWJYVRr"
   },
   "outputs": [],
   "source": [
    "#similar to how you plotted it before! (bonus: make it colorful)\n",
    "\n"
   ]
  },
  {
   "cell_type": "markdown",
   "metadata": {
    "id": "jD2OqtKTcr_E"
   },
   "source": [
    "## Compare!"
   ]
  },
  {
   "cell_type": "markdown",
   "metadata": {
    "id": "wH3SouROapF8"
   },
   "source": [
    "Now, all thats left is to compare the graphs"
   ]
  },
  {
   "cell_type": "code",
   "execution_count": null,
   "metadata": {
    "id": "kuImcGwAatq2"
   },
   "outputs": [],
   "source": [
    "#Create a subplot with first and second plot, along with a graph showing how the data has changed before and after spike (could be a bar graph, upto you, be creative)\n",
    "\n"
   ]
  }
 ],
 "metadata": {
  "colab": {
   "provenance": []
  },
  "kernelspec": {
   "display_name": "Python 3",
   "name": "python3"
  },
  "language_info": {
   "codemirror_mode": {
    "name": "ipython",
    "version": 3
   },
   "file_extension": ".py",
   "mimetype": "text/x-python",
   "name": "python",
   "nbconvert_exporter": "python",
   "pygments_lexer": "ipython3",
   "version": "3.12.5"
  }
 },
 "nbformat": 4,
 "nbformat_minor": 0
}
