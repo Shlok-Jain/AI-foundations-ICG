{
 "cells": [
  {
   "cell_type": "code",
   "execution_count": 1,
   "id": "35dc7668",
   "metadata": {
    "_cell_guid": "b1076dfc-b9ad-4769-8c92-a6c4dae69d19",
    "_uuid": "8f2839f25d086af736a60e9eeb907d3b93b6e0e5",
    "execution": {
     "iopub.execute_input": "2024-12-14T08:36:26.476965Z",
     "iopub.status.busy": "2024-12-14T08:36:26.476523Z",
     "iopub.status.idle": "2024-12-14T08:36:27.377402Z",
     "shell.execute_reply": "2024-12-14T08:36:27.376126Z"
    },
    "papermill": {
     "duration": 0.910472,
     "end_time": "2024-12-14T08:36:27.379878",
     "exception": false,
     "start_time": "2024-12-14T08:36:26.469406",
     "status": "completed"
    },
    "tags": []
   },
   "outputs": [
    {
     "name": "stdout",
     "output_type": "stream",
     "text": [
      "/kaggle/input/ai-foundations-sign-language-detection/sample_submission.csv\n",
      "/kaggle/input/ai-foundations-sign-language-detection/train.csv\n",
      "/kaggle/input/ai-foundations-sign-language-detection/test.csv\n"
     ]
    }
   ],
   "source": [
    "# This Python 3 environment comes with many helpful analytics libraries installed\n",
    "# It is defined by the kaggle/python Docker image: https://github.com/kaggle/docker-python\n",
    "# For example, here's several helpful packages to load\n",
    "\n",
    "import numpy as np # linear algebra\n",
    "import pandas as pd # data processing, CSV file I/O (e.g. pd.read_csv)\n",
    "\n",
    "# Input data files are available in the read-only \"../input/\" directory\n",
    "# For example, running this (by clicking run or pressing Shift+Enter) will list all files under the input directory\n",
    "\n",
    "import os\n",
    "for dirname, _, filenames in os.walk('/kaggle/input'):\n",
    "    for filename in filenames:\n",
    "        print(os.path.join(dirname, filename))\n",
    "\n",
    "# You can write up to 20GB to the current directory (/kaggle/working/) that gets preserved as output when you create a version using \"Save & Run All\" \n",
    "# You can also write temporary files to /kaggle/temp/, but they won't be saved outside of the current session"
   ]
  },
  {
   "cell_type": "code",
   "execution_count": 2,
   "id": "c967759a",
   "metadata": {
    "execution": {
     "iopub.execute_input": "2024-12-14T08:36:27.391661Z",
     "iopub.status.busy": "2024-12-14T08:36:27.391167Z",
     "iopub.status.idle": "2024-12-14T08:36:41.589945Z",
     "shell.execute_reply": "2024-12-14T08:36:41.588710Z"
    },
    "papermill": {
     "duration": 14.207566,
     "end_time": "2024-12-14T08:36:41.592535",
     "exception": false,
     "start_time": "2024-12-14T08:36:27.384969",
     "status": "completed"
    },
    "tags": []
   },
   "outputs": [],
   "source": [
    "import numpy as np\n",
    "import pandas as pd\n",
    "import tensorflow as tf\n",
    "import matplotlib.pyplot as plt\n"
   ]
  },
  {
   "cell_type": "code",
   "execution_count": 3,
   "id": "786e9e0c",
   "metadata": {
    "execution": {
     "iopub.execute_input": "2024-12-14T08:36:41.604528Z",
     "iopub.status.busy": "2024-12-14T08:36:41.603873Z",
     "iopub.status.idle": "2024-12-14T08:36:45.507105Z",
     "shell.execute_reply": "2024-12-14T08:36:45.505909Z"
    },
    "papermill": {
     "duration": 3.912131,
     "end_time": "2024-12-14T08:36:45.509704",
     "exception": false,
     "start_time": "2024-12-14T08:36:41.597573",
     "status": "completed"
    },
    "tags": []
   },
   "outputs": [
    {
     "name": "stdout",
     "output_type": "stream",
     "text": [
      "       label  pixel1  pixel2  pixel3  pixel4  pixel5  pixel6  pixel7  pixel8  \\\n",
      "0          3     107     118     127     134     139     143     146     150   \n",
      "1          6     155     157     156     156     156     157     156     158   \n",
      "2          2     187     188     188     187     187     186     187     188   \n",
      "3          2     211     211     212     212     211     210     211     210   \n",
      "4         13     164     167     170     172     176     179     180     184   \n",
      "...      ...     ...     ...     ...     ...     ...     ...     ...     ...   \n",
      "27450     13     189     189     190     190     192     193     193     193   \n",
      "27451     23     151     154     157     158     160     161     163     164   \n",
      "27452     18     174     174     174     174     174     175     175     174   \n",
      "27453     17     177     181     184     185     187     189     190     191   \n",
      "27454     23     179     180     180     180     182     181     182     183   \n",
      "\n",
      "       pixel9  ...  pixel775  pixel776  pixel777  pixel778  pixel779  \\\n",
      "0         153  ...       207       207       207       207       206   \n",
      "1         158  ...        69       149       128        87        94   \n",
      "2         187  ...       202       201       200       199       198   \n",
      "3         210  ...       235       234       233       231       230   \n",
      "4         185  ...        92       105       105       108       133   \n",
      "...       ...  ...       ...       ...       ...       ...       ...   \n",
      "27450     193  ...       132       165        99        77        52   \n",
      "27451     166  ...       198       198       198       198       198   \n",
      "27452     173  ...       121       196       209       208       206   \n",
      "27453     191  ...       119        56        27        58       102   \n",
      "27454     182  ...       108       132       170       194       214   \n",
      "\n",
      "       pixel780  pixel781  pixel782  pixel783  pixel784  \n",
      "0           206       206       204       203       202  \n",
      "1           163       175       103       135       149  \n",
      "2           199       198       195       194       195  \n",
      "3           226       225       222       229       163  \n",
      "4           163       157       163       164       179  \n",
      "...         ...       ...       ...       ...       ...  \n",
      "27450       200       234       200       222       225  \n",
      "27451       196       195       195       195       194  \n",
      "27452       204       203       202       200       200  \n",
      "27453        79        47        64        87        93  \n",
      "27454       203       197       205       209       215  \n",
      "\n",
      "[27455 rows x 785 columns]\n"
     ]
    }
   ],
   "source": [
    "df=pd.read_csv('/kaggle/input/ai-foundations-sign-language-detection/train.csv')\n",
    "\n",
    "print(df)"
   ]
  },
  {
   "cell_type": "code",
   "execution_count": 4,
   "id": "1702d78c",
   "metadata": {
    "execution": {
     "iopub.execute_input": "2024-12-14T08:36:45.522670Z",
     "iopub.status.busy": "2024-12-14T08:36:45.522241Z",
     "iopub.status.idle": "2024-12-14T08:36:45.533911Z",
     "shell.execute_reply": "2024-12-14T08:36:45.532701Z"
    },
    "papermill": {
     "duration": 0.020284,
     "end_time": "2024-12-14T08:36:45.536204",
     "exception": false,
     "start_time": "2024-12-14T08:36:45.515920",
     "status": "completed"
    },
    "tags": []
   },
   "outputs": [
    {
     "name": "stdout",
     "output_type": "stream",
     "text": [
      "24 [ 0  1  2  3  4  5  6  7  8 10 11 12 13 14 15 16 17 18 19 20 21 22 23 24]\n",
      "[[107 118 127 ... 204 203 202]\n",
      " [155 157 156 ... 103 135 149]\n",
      " [187 188 188 ... 195 194 195]\n",
      " ...\n",
      " [174 174 174 ... 202 200 200]\n",
      " [177 181 184 ...  64  87  93]\n",
      " [179 180 180 ... 205 209 215]] (27455, 784)\n",
      "[ 3  6  2 ... 18 17 23]\n",
      "[[[107 118 127 ... 170 170 169]\n",
      "  [111 121 129 ... 171 171 170]\n",
      "  [113 123 131 ... 171 171 171]\n",
      "  ...\n",
      "  [142 150 159 ... 202 201 200]\n",
      "  [142 151 160 ... 204 203 202]\n",
      "  [142 151 160 ... 204 203 202]]\n",
      "\n",
      " [[155 157 156 ... 138  92 108]\n",
      "  [158 159 159 ... 142 116 143]\n",
      "  [161 161 161 ... 147 125 140]\n",
      "  ...\n",
      "  [162 159 145 ...  91 101  94]\n",
      "  [153 139 115 ...  97  95 120]\n",
      "  [135 116  95 ... 103 135 149]]\n",
      "\n",
      " [[187 188 188 ...  66  77  83]\n",
      "  [188 189 189 ...  73  73  71]\n",
      "  [190 190 190 ...  74  68  61]\n",
      "  ...\n",
      "  [212 198 175 ... 195 193 192]\n",
      "  [202 179 152 ... 195 194 193]\n",
      "  [198 166 132 ... 195 194 195]]\n",
      "\n",
      " ...\n",
      "\n",
      " [[174 174 174 ... 160 158 156]\n",
      "  [178 178 177 ... 162 160 158]\n",
      "  [181 180 180 ... 164 162 161]\n",
      "  ...\n",
      "  [215 216 216 ... 201 199 198]\n",
      "  [216 217 217 ... 201 200 198]\n",
      "  [217 217 217 ... 202 200 200]]\n",
      "\n",
      " [[177 181 184 ... 181 179 177]\n",
      "  [179 182 185 ... 183 181 179]\n",
      "  [181 184 187 ... 185 183 182]\n",
      "  ...\n",
      "  [129 132 134 ...  94 102  70]\n",
      "  [131 134 132 ...  78 100  86]\n",
      "  [136 135 135 ...  64  87  93]]\n",
      "\n",
      " [[179 180 180 ...  47  30  39]\n",
      "  [180 182 183 ...  79  24  34]\n",
      "  [184 184 185 ... 115  25  29]\n",
      "  ...\n",
      "  [ 90  94  76 ... 109 150 172]\n",
      "  [ 94  93  89 ... 202 213 215]\n",
      "  [ 96  88 109 ... 205 209 215]]] (27455, 28, 28)\n"
     ]
    }
   ],
   "source": [
    "y_train=np.array(df['label'])\n",
    "num_uni=len(np.unique(y_train))\n",
    "print(num_uni,np.unique(y_train))\n",
    "X_train=df.iloc[:,1:785].to_numpy()\n",
    "print(X_train,X_train.shape)\n",
    "print(y_train)\n",
    "X_train=X_train.reshape(27455,28,28)\n",
    "print(X_train,X_train.shape)"
   ]
  },
  {
   "cell_type": "code",
   "execution_count": 5,
   "id": "ea2a07f8",
   "metadata": {
    "execution": {
     "iopub.execute_input": "2024-12-14T08:36:45.548064Z",
     "iopub.status.busy": "2024-12-14T08:36:45.547649Z",
     "iopub.status.idle": "2024-12-14T08:36:45.806992Z",
     "shell.execute_reply": "2024-12-14T08:36:45.805824Z"
    },
    "papermill": {
     "duration": 0.268066,
     "end_time": "2024-12-14T08:36:45.809361",
     "exception": false,
     "start_time": "2024-12-14T08:36:45.541295",
     "status": "completed"
    },
    "tags": []
   },
   "outputs": [
    {
     "name": "stdout",
     "output_type": "stream",
     "text": [
      "Label:{} 3\n"
     ]
    },
    {
     "data": {
      "image/png": "[encoded data removed]",
      "text/plain": [
       "<Figure size 640x480 with 1 Axes>"
      ]
     },
     "metadata": {},
     "output_type": "display_data"
    }
   ],
   "source": [
    "#lets visulaise the image with its label\n",
    "print(\"Label:{}\",format(y_train[0]))\n",
    "plt.imshow(X_train[0])\n",
    "plt.show()"
   ]
  },
  {
   "cell_type": "code",
   "execution_count": 6,
   "id": "134cd7e8",
   "metadata": {
    "execution": {
     "iopub.execute_input": "2024-12-14T08:36:45.821630Z",
     "iopub.status.busy": "2024-12-14T08:36:45.821243Z",
     "iopub.status.idle": "2024-12-14T08:36:45.898237Z",
     "shell.execute_reply": "2024-12-14T08:36:45.897226Z"
    },
    "papermill": {
     "duration": 0.086058,
     "end_time": "2024-12-14T08:36:45.900755",
     "exception": false,
     "start_time": "2024-12-14T08:36:45.814697",
     "status": "completed"
    },
    "tags": []
   },
   "outputs": [
    {
     "name": "stdout",
     "output_type": "stream",
     "text": [
      "(27455, 25)\n"
     ]
    }
   ],
   "source": [
    "#hot encoding the y_train\n",
    "y_train=tf.keras.utils.to_categorical(y_train,25)\n",
    "print(y_train.shape)"
   ]
  },
  {
   "cell_type": "code",
   "execution_count": 7,
   "id": "c7d87c11",
   "metadata": {
    "execution": {
     "iopub.execute_input": "2024-12-14T08:36:45.913400Z",
     "iopub.status.busy": "2024-12-14T08:36:45.913009Z",
     "iopub.status.idle": "2024-12-14T08:36:45.918387Z",
     "shell.execute_reply": "2024-12-14T08:36:45.917085Z"
    },
    "papermill": {
     "duration": 0.014256,
     "end_time": "2024-12-14T08:36:45.920684",
     "exception": false,
     "start_time": "2024-12-14T08:36:45.906428",
     "status": "completed"
    },
    "tags": []
   },
   "outputs": [],
   "source": [
    "X_train=X_train.reshape(27455,28,28,1)"
   ]
  },
  {
   "cell_type": "code",
   "execution_count": 8,
   "id": "ba15d14b",
   "metadata": {
    "execution": {
     "iopub.execute_input": "2024-12-14T08:36:45.935080Z",
     "iopub.status.busy": "2024-12-14T08:36:45.933715Z",
     "iopub.status.idle": "2024-12-14T08:36:45.978694Z",
     "shell.execute_reply": "2024-12-14T08:36:45.977549Z"
    },
    "papermill": {
     "duration": 0.055984,
     "end_time": "2024-12-14T08:36:45.982556",
     "exception": false,
     "start_time": "2024-12-14T08:36:45.926572",
     "status": "completed"
    },
    "tags": []
   },
   "outputs": [
    {
     "name": "stdout",
     "output_type": "stream",
     "text": [
      "[[[[0.41960785]\n",
      "   [0.4627451 ]\n",
      "   [0.49803922]\n",
      "   ...\n",
      "   [0.6666667 ]\n",
      "   [0.6666667 ]\n",
      "   [0.6627451 ]]\n",
      "\n",
      "  [[0.43529412]\n",
      "   [0.4745098 ]\n",
      "   [0.5058824 ]\n",
      "   ...\n",
      "   [0.67058825]\n",
      "   [0.67058825]\n",
      "   [0.6666667 ]]\n",
      "\n",
      "  [[0.44313726]\n",
      "   [0.48235294]\n",
      "   [0.5137255 ]\n",
      "   ...\n",
      "   [0.67058825]\n",
      "   [0.67058825]\n",
      "   [0.67058825]]\n",
      "\n",
      "  ...\n",
      "\n",
      "  [[0.5568628 ]\n",
      "   [0.5882353 ]\n",
      "   [0.62352943]\n",
      "   ...\n",
      "   [0.7921569 ]\n",
      "   [0.7882353 ]\n",
      "   [0.78431374]]\n",
      "\n",
      "  [[0.5568628 ]\n",
      "   [0.5921569 ]\n",
      "   [0.627451  ]\n",
      "   ...\n",
      "   [0.8       ]\n",
      "   [0.79607844]\n",
      "   [0.7921569 ]]\n",
      "\n",
      "  [[0.5568628 ]\n",
      "   [0.5921569 ]\n",
      "   [0.627451  ]\n",
      "   ...\n",
      "   [0.8       ]\n",
      "   [0.79607844]\n",
      "   [0.7921569 ]]]\n",
      "\n",
      "\n",
      " [[[0.60784316]\n",
      "   [0.6156863 ]\n",
      "   [0.6117647 ]\n",
      "   ...\n",
      "   [0.5411765 ]\n",
      "   [0.36078432]\n",
      "   [0.42352942]]\n",
      "\n",
      "  [[0.61960787]\n",
      "   [0.62352943]\n",
      "   [0.62352943]\n",
      "   ...\n",
      "   [0.5568628 ]\n",
      "   [0.45490196]\n",
      "   [0.56078434]]\n",
      "\n",
      "  [[0.6313726 ]\n",
      "   [0.6313726 ]\n",
      "   [0.6313726 ]\n",
      "   ...\n",
      "   [0.5764706 ]\n",
      "   [0.49019608]\n",
      "   [0.54901963]]\n",
      "\n",
      "  ...\n",
      "\n",
      "  [[0.63529414]\n",
      "   [0.62352943]\n",
      "   [0.5686275 ]\n",
      "   ...\n",
      "   [0.35686275]\n",
      "   [0.39607844]\n",
      "   [0.36862746]]\n",
      "\n",
      "  [[0.6       ]\n",
      "   [0.54509807]\n",
      "   [0.4509804 ]\n",
      "   ...\n",
      "   [0.38039216]\n",
      "   [0.37254903]\n",
      "   [0.47058824]]\n",
      "\n",
      "  [[0.5294118 ]\n",
      "   [0.45490196]\n",
      "   [0.37254903]\n",
      "   ...\n",
      "   [0.40392157]\n",
      "   [0.5294118 ]\n",
      "   [0.58431375]]]\n",
      "\n",
      "\n",
      " [[[0.73333335]\n",
      "   [0.7372549 ]\n",
      "   [0.7372549 ]\n",
      "   ...\n",
      "   [0.25882354]\n",
      "   [0.3019608 ]\n",
      "   [0.3254902 ]]\n",
      "\n",
      "  [[0.7372549 ]\n",
      "   [0.7411765 ]\n",
      "   [0.7411765 ]\n",
      "   ...\n",
      "   [0.28627452]\n",
      "   [0.28627452]\n",
      "   [0.2784314 ]]\n",
      "\n",
      "  [[0.74509805]\n",
      "   [0.74509805]\n",
      "   [0.74509805]\n",
      "   ...\n",
      "   [0.2901961 ]\n",
      "   [0.26666668]\n",
      "   [0.23921569]]\n",
      "\n",
      "  ...\n",
      "\n",
      "  [[0.83137256]\n",
      "   [0.7764706 ]\n",
      "   [0.6862745 ]\n",
      "   ...\n",
      "   [0.7647059 ]\n",
      "   [0.75686276]\n",
      "   [0.7529412 ]]\n",
      "\n",
      "  [[0.7921569 ]\n",
      "   [0.7019608 ]\n",
      "   [0.59607846]\n",
      "   ...\n",
      "   [0.7647059 ]\n",
      "   [0.7607843 ]\n",
      "   [0.75686276]]\n",
      "\n",
      "  [[0.7764706 ]\n",
      "   [0.6509804 ]\n",
      "   [0.5176471 ]\n",
      "   ...\n",
      "   [0.7647059 ]\n",
      "   [0.7607843 ]\n",
      "   [0.7647059 ]]]\n",
      "\n",
      "\n",
      " ...\n",
      "\n",
      "\n",
      " [[[0.68235296]\n",
      "   [0.68235296]\n",
      "   [0.68235296]\n",
      "   ...\n",
      "   [0.627451  ]\n",
      "   [0.61960787]\n",
      "   [0.6117647 ]]\n",
      "\n",
      "  [[0.69803923]\n",
      "   [0.69803923]\n",
      "   [0.69411767]\n",
      "   ...\n",
      "   [0.63529414]\n",
      "   [0.627451  ]\n",
      "   [0.61960787]]\n",
      "\n",
      "  [[0.70980394]\n",
      "   [0.7058824 ]\n",
      "   [0.7058824 ]\n",
      "   ...\n",
      "   [0.6431373 ]\n",
      "   [0.63529414]\n",
      "   [0.6313726 ]]\n",
      "\n",
      "  ...\n",
      "\n",
      "  [[0.84313726]\n",
      "   [0.84705883]\n",
      "   [0.84705883]\n",
      "   ...\n",
      "   [0.7882353 ]\n",
      "   [0.78039217]\n",
      "   [0.7764706 ]]\n",
      "\n",
      "  [[0.84705883]\n",
      "   [0.8509804 ]\n",
      "   [0.8509804 ]\n",
      "   ...\n",
      "   [0.7882353 ]\n",
      "   [0.78431374]\n",
      "   [0.7764706 ]]\n",
      "\n",
      "  [[0.8509804 ]\n",
      "   [0.8509804 ]\n",
      "   [0.8509804 ]\n",
      "   ...\n",
      "   [0.7921569 ]\n",
      "   [0.78431374]\n",
      "   [0.78431374]]]\n",
      "\n",
      "\n",
      " [[[0.69411767]\n",
      "   [0.70980394]\n",
      "   [0.72156864]\n",
      "   ...\n",
      "   [0.70980394]\n",
      "   [0.7019608 ]\n",
      "   [0.69411767]]\n",
      "\n",
      "  [[0.7019608 ]\n",
      "   [0.7137255 ]\n",
      "   [0.7254902 ]\n",
      "   ...\n",
      "   [0.7176471 ]\n",
      "   [0.70980394]\n",
      "   [0.7019608 ]]\n",
      "\n",
      "  [[0.70980394]\n",
      "   [0.72156864]\n",
      "   [0.73333335]\n",
      "   ...\n",
      "   [0.7254902 ]\n",
      "   [0.7176471 ]\n",
      "   [0.7137255 ]]\n",
      "\n",
      "  ...\n",
      "\n",
      "  [[0.5058824 ]\n",
      "   [0.5176471 ]\n",
      "   [0.5254902 ]\n",
      "   ...\n",
      "   [0.36862746]\n",
      "   [0.4       ]\n",
      "   [0.27450982]]\n",
      "\n",
      "  [[0.5137255 ]\n",
      "   [0.5254902 ]\n",
      "   [0.5176471 ]\n",
      "   ...\n",
      "   [0.30588236]\n",
      "   [0.39215687]\n",
      "   [0.3372549 ]]\n",
      "\n",
      "  [[0.53333336]\n",
      "   [0.5294118 ]\n",
      "   [0.5294118 ]\n",
      "   ...\n",
      "   [0.2509804 ]\n",
      "   [0.34117648]\n",
      "   [0.3647059 ]]]\n",
      "\n",
      "\n",
      " [[[0.7019608 ]\n",
      "   [0.7058824 ]\n",
      "   [0.7058824 ]\n",
      "   ...\n",
      "   [0.18431373]\n",
      "   [0.11764706]\n",
      "   [0.15294118]]\n",
      "\n",
      "  [[0.7058824 ]\n",
      "   [0.7137255 ]\n",
      "   [0.7176471 ]\n",
      "   ...\n",
      "   [0.30980393]\n",
      "   [0.09411765]\n",
      "   [0.13333334]]\n",
      "\n",
      "  [[0.72156864]\n",
      "   [0.72156864]\n",
      "   [0.7254902 ]\n",
      "   ...\n",
      "   [0.4509804 ]\n",
      "   [0.09803922]\n",
      "   [0.11372549]]\n",
      "\n",
      "  ...\n",
      "\n",
      "  [[0.3529412 ]\n",
      "   [0.36862746]\n",
      "   [0.29803923]\n",
      "   ...\n",
      "   [0.42745098]\n",
      "   [0.5882353 ]\n",
      "   [0.6745098 ]]\n",
      "\n",
      "  [[0.36862746]\n",
      "   [0.3647059 ]\n",
      "   [0.34901962]\n",
      "   ...\n",
      "   [0.7921569 ]\n",
      "   [0.8352941 ]\n",
      "   [0.84313726]]\n",
      "\n",
      "  [[0.3764706 ]\n",
      "   [0.34509805]\n",
      "   [0.42745098]\n",
      "   ...\n",
      "   [0.8039216 ]\n",
      "   [0.81960785]\n",
      "   [0.84313726]]]]\n"
     ]
    }
   ],
   "source": [
    "X_train=X_train.astype('float32')/255 #normalising the pixel values\n",
    "print(X_train)\n"
   ]
  },
  {
   "cell_type": "code",
   "execution_count": 9,
   "id": "1efe5b5b",
   "metadata": {
    "execution": {
     "iopub.execute_input": "2024-12-14T08:36:45.995808Z",
     "iopub.status.busy": "2024-12-14T08:36:45.995396Z",
     "iopub.status.idle": "2024-12-14T08:36:46.120541Z",
     "shell.execute_reply": "2024-12-14T08:36:46.119397Z"
    },
    "papermill": {
     "duration": 0.134589,
     "end_time": "2024-12-14T08:36:46.123001",
     "exception": false,
     "start_time": "2024-12-14T08:36:45.988412",
     "status": "completed"
    },
    "tags": []
   },
   "outputs": [
    {
     "name": "stderr",
     "output_type": "stream",
     "text": [
      "/opt/conda/lib/python3.10/site-packages/keras/src/layers/convolutional/base_conv.py:107: UserWarning: Do not pass an `input_shape`/`input_dim` argument to a layer. When using Sequential models, prefer using an `Input(shape)` object as the first layer in the model instead.\n",
      "  super().__init__(activity_regularizer=activity_regularizer, **kwargs)\n"
     ]
    }
   ],
   "source": [
    "model=tf.keras.models.Sequential()\n",
    "\n",
    "model.add(tf.keras.layers.Conv2D(32,(3,3),activation='relu',input_shape=(28,28,1)))\n",
    "model.add(tf.keras.layers.MaxPool2D(2,2))\n",
    "model.add(tf.keras.layers.Conv2D(64,(3,3),activation='relu'))\n",
    "model.add(tf.keras.layers.MaxPool2D(2,2))\n",
    "model.add(tf.keras.layers.Flatten())\n",
    "model.add(tf.keras.layers.Dense(128,activation='relu'))\n",
    "model.add(tf.keras.layers.Dense(25,activation='softmax'))"
   ]
  },
  {
   "cell_type": "code",
   "execution_count": 10,
   "id": "ce6c1f9d",
   "metadata": {
    "execution": {
     "iopub.execute_input": "2024-12-14T08:36:46.136213Z",
     "iopub.status.busy": "2024-12-14T08:36:46.135838Z",
     "iopub.status.idle": "2024-12-14T08:36:46.151628Z",
     "shell.execute_reply": "2024-12-14T08:36:46.150276Z"
    },
    "papermill": {
     "duration": 0.0251,
     "end_time": "2024-12-14T08:36:46.153945",
     "exception": false,
     "start_time": "2024-12-14T08:36:46.128845",
     "status": "completed"
    },
    "tags": []
   },
   "outputs": [],
   "source": [
    "model.compile(optimizer='adam',loss='categorical_crossentropy',metrics=['accuracy'])"
   ]
  },
  {
   "cell_type": "code",
   "execution_count": 11,
   "id": "027cd013",
   "metadata": {
    "execution": {
     "iopub.execute_input": "2024-12-14T08:36:46.166911Z",
     "iopub.status.busy": "2024-12-14T08:36:46.166499Z",
     "iopub.status.idle": "2024-12-14T08:36:46.213846Z",
     "shell.execute_reply": "2024-12-14T08:36:46.212845Z"
    },
    "papermill": {
     "duration": 0.056685,
     "end_time": "2024-12-14T08:36:46.216246",
     "exception": false,
     "start_time": "2024-12-14T08:36:46.159561",
     "status": "completed"
    },
    "tags": []
   },
   "outputs": [],
   "source": [
    "data_generator=tf.keras.preprocessing.image.ImageDataGenerator(\n",
    "    rotation_range=20,\n",
    "    width_shift_range=0.2,\n",
    "    height_shift_range=0.2,\n",
    "    shear_range=0.2,\n",
    "    zoom_range=0.2,\n",
    "    horizontal_flip=True,\n",
    "    fill_mode='nearest'\n",
    ")\n",
    "data_generator.fit(X_train)"
   ]
  },
  {
   "cell_type": "code",
   "execution_count": 12,
   "id": "e21457f6",
   "metadata": {
    "execution": {
     "iopub.execute_input": "2024-12-14T08:36:46.230619Z",
     "iopub.status.busy": "2024-12-14T08:36:46.229609Z",
     "iopub.status.idle": "2024-12-14T08:43:21.470031Z",
     "shell.execute_reply": "2024-12-14T08:43:21.468830Z"
    },
    "papermill": {
     "duration": 395.615013,
     "end_time": "2024-12-14T08:43:21.837495",
     "exception": false,
     "start_time": "2024-12-14T08:36:46.222482",
     "status": "completed"
    },
    "tags": []
   },
   "outputs": [
    {
     "name": "stdout",
     "output_type": "stream",
     "text": [
      "Epoch 1/10\n",
      "\u001b[1m858/858\u001b[0m \u001b[32m━━━━━━━━━━━━━━━━━━━━\u001b[0m\u001b[37m\u001b[0m \u001b[1m17s\u001b[0m 18ms/step - accuracy: 0.5318 - loss: 1.6119\n",
      "Epoch 2/10\n",
      "\u001b[1m858/858\u001b[0m \u001b[32m━━━━━━━━━━━━━━━━━━━━\u001b[0m\u001b[37m\u001b[0m \u001b[1m15s\u001b[0m 17ms/step - accuracy: 0.9893 - loss: 0.0528\n",
      "Epoch 3/10\n",
      "\u001b[1m858/858\u001b[0m \u001b[32m━━━━━━━━━━━━━━━━━━━━\u001b[0m\u001b[37m\u001b[0m \u001b[1m16s\u001b[0m 18ms/step - accuracy: 0.9990 - loss: 0.0093\n",
      "Epoch 4/10\n",
      "\u001b[1m858/858\u001b[0m \u001b[32m━━━━━━━━━━━━━━━━━━━━\u001b[0m\u001b[37m\u001b[0m \u001b[1m15s\u001b[0m 17ms/step - accuracy: 0.9999 - loss: 0.0027\n",
      "Epoch 5/10\n",
      "\u001b[1m858/858\u001b[0m \u001b[32m━━━━━━━━━━━━━━━━━━━━\u001b[0m\u001b[37m\u001b[0m \u001b[1m15s\u001b[0m 17ms/step - accuracy: 0.9941 - loss: 0.0205\n",
      "Epoch 6/10\n",
      "\u001b[1m858/858\u001b[0m \u001b[32m━━━━━━━━━━━━━━━━━━━━\u001b[0m\u001b[37m\u001b[0m \u001b[1m20s\u001b[0m 17ms/step - accuracy: 1.0000 - loss: 4.4552e-04\n",
      "Epoch 7/10\n",
      "\u001b[1m858/858\u001b[0m \u001b[32m━━━━━━━━━━━━━━━━━━━━\u001b[0m\u001b[37m\u001b[0m \u001b[1m15s\u001b[0m 17ms/step - accuracy: 1.0000 - loss: 1.9877e-04\n",
      "Epoch 8/10\n",
      "\u001b[1m858/858\u001b[0m \u001b[32m━━━━━━━━━━━━━━━━━━━━\u001b[0m\u001b[37m\u001b[0m \u001b[1m15s\u001b[0m 17ms/step - accuracy: 1.0000 - loss: 1.3167e-04\n",
      "Epoch 9/10\n",
      "\u001b[1m858/858\u001b[0m \u001b[32m━━━━━━━━━━━━━━━━━━━━\u001b[0m\u001b[37m\u001b[0m \u001b[1m14s\u001b[0m 17ms/step - accuracy: 1.0000 - loss: 8.0196e-05\n",
      "Epoch 10/10\n",
      "\u001b[1m858/858\u001b[0m \u001b[32m━━━━━━━━━━━━━━━━━━━━\u001b[0m\u001b[37m\u001b[0m \u001b[1m15s\u001b[0m 17ms/step - accuracy: 0.9930 - loss: 0.0224\n",
      "Epoch 1/12\n",
      "\u001b[1m  4/858\u001b[0m \u001b[37m━━━━━━━━━━━━━━━━━━━━\u001b[0m \u001b[1m18s\u001b[0m 21ms/step - accuracy: 0.1803 - loss: 10.3093  "
     ]
    },
    {
     "name": "stderr",
     "output_type": "stream",
     "text": [
      "/opt/conda/lib/python3.10/site-packages/keras/src/trainers/data_adapters/py_dataset_adapter.py:121: UserWarning: Your `PyDataset` class should call `super().__init__(**kwargs)` in its constructor. `**kwargs` can include `workers`, `use_multiprocessing`, `max_queue_size`. Do not pass these arguments to `fit()`, as they will be ignored.\n",
      "  self._warn_if_super_not_called()\n"
     ]
    },
    {
     "name": "stdout",
     "output_type": "stream",
     "text": [
      "\u001b[1m858/858\u001b[0m \u001b[32m━━━━━━━━━━━━━━━━━━━━\u001b[0m\u001b[37m\u001b[0m \u001b[1m19s\u001b[0m 22ms/step - accuracy: 0.1768 - loss: 2.9811\n",
      "Epoch 2/12\n",
      "\u001b[1m858/858\u001b[0m \u001b[32m━━━━━━━━━━━━━━━━━━━━\u001b[0m\u001b[37m\u001b[0m \u001b[1m21s\u001b[0m 22ms/step - accuracy: 0.4637 - loss: 1.7029\n",
      "Epoch 3/12\n",
      "\u001b[1m858/858\u001b[0m \u001b[32m━━━━━━━━━━━━━━━━━━━━\u001b[0m\u001b[37m\u001b[0m \u001b[1m21s\u001b[0m 22ms/step - accuracy: 0.5691 - loss: 1.3281\n",
      "Epoch 4/12\n",
      "\u001b[1m858/858\u001b[0m \u001b[32m━━━━━━━━━━━━━━━━━━━━\u001b[0m\u001b[37m\u001b[0m \u001b[1m20s\u001b[0m 22ms/step - accuracy: 0.6461 - loss: 1.0928\n",
      "Epoch 5/12\n",
      "\u001b[1m858/858\u001b[0m \u001b[32m━━━━━━━━━━━━━━━━━━━━\u001b[0m\u001b[37m\u001b[0m \u001b[1m19s\u001b[0m 22ms/step - accuracy: 0.6900 - loss: 0.9439\n",
      "Epoch 6/12\n",
      "\u001b[1m858/858\u001b[0m \u001b[32m━━━━━━━━━━━━━━━━━━━━\u001b[0m\u001b[37m\u001b[0m \u001b[1m19s\u001b[0m 22ms/step - accuracy: 0.7277 - loss: 0.8366\n",
      "Epoch 7/12\n",
      "\u001b[1m858/858\u001b[0m \u001b[32m━━━━━━━━━━━━━━━━━━━━\u001b[0m\u001b[37m\u001b[0m \u001b[1m19s\u001b[0m 22ms/step - accuracy: 0.7667 - loss: 0.7246\n",
      "Epoch 8/12\n",
      "\u001b[1m858/858\u001b[0m \u001b[32m━━━━━━━━━━━━━━━━━━━━\u001b[0m\u001b[37m\u001b[0m \u001b[1m21s\u001b[0m 22ms/step - accuracy: 0.7861 - loss: 0.6542\n",
      "Epoch 9/12\n",
      "\u001b[1m858/858\u001b[0m \u001b[32m━━━━━━━━━━━━━━━━━━━━\u001b[0m\u001b[37m\u001b[0m \u001b[1m19s\u001b[0m 22ms/step - accuracy: 0.8105 - loss: 0.5803\n",
      "Epoch 10/12\n",
      "\u001b[1m858/858\u001b[0m \u001b[32m━━━━━━━━━━━━━━━━━━━━\u001b[0m\u001b[37m\u001b[0m \u001b[1m20s\u001b[0m 23ms/step - accuracy: 0.8188 - loss: 0.5461\n",
      "Epoch 11/12\n",
      "\u001b[1m858/858\u001b[0m \u001b[32m━━━━━━━━━━━━━━━━━━━━\u001b[0m\u001b[37m\u001b[0m \u001b[1m20s\u001b[0m 23ms/step - accuracy: 0.8387 - loss: 0.4854\n",
      "Epoch 12/12\n",
      "\u001b[1m858/858\u001b[0m \u001b[32m━━━━━━━━━━━━━━━━━━━━\u001b[0m\u001b[37m\u001b[0m \u001b[1m19s\u001b[0m 22ms/step - accuracy: 0.8506 - loss: 0.4493\n"
     ]
    },
    {
     "data": {
      "text/plain": [
       "<keras.src.callbacks.history.History at 0x7b0c99053460>"
      ]
     },
     "execution_count": 12,
     "metadata": {},
     "output_type": "execute_result"
    }
   ],
   "source": [
    "model.fit(X_train,y_train,epochs=10,batch_size=32)\n",
    "model.fit(\n",
    "    data_generator.flow(X_train,y_train,batch_size=32),\n",
    "    epochs=12\n",
    ")"
   ]
  },
  {
   "cell_type": "code",
   "execution_count": 13,
   "id": "4b96db36",
   "metadata": {
    "execution": {
     "iopub.execute_input": "2024-12-14T08:43:22.646202Z",
     "iopub.status.busy": "2024-12-14T08:43:22.645105Z",
     "iopub.status.idle": "2024-12-14T08:43:23.667399Z",
     "shell.execute_reply": "2024-12-14T08:43:23.666145Z"
    },
    "papermill": {
     "duration": 1.469601,
     "end_time": "2024-12-14T08:43:23.670243",
     "exception": false,
     "start_time": "2024-12-14T08:43:22.200642",
     "status": "completed"
    },
    "tags": []
   },
   "outputs": [
    {
     "name": "stdout",
     "output_type": "stream",
     "text": [
      "        id  pixel1  pixel2  pixel3  pixel4  pixel5  pixel6  pixel7  pixel8  \\\n",
      "0        0     149     149     150     150     150     151     151     150   \n",
      "1        1     126     128     131     132     133     134     135     135   \n",
      "2        2      85      88      92      96     105     123     135     143   \n",
      "3        3     203     205     207     206     207     209     210     209   \n",
      "4        4     188     191     193     195     199     201     202     203   \n",
      "...    ...     ...     ...     ...     ...     ...     ...     ...     ...   \n",
      "7167  7167     135     119     108     102     105      99      61     103   \n",
      "7168  7168     157     159     161     164     166     166     171     174   \n",
      "7169  7169     190     191     190     191     190     190     192     192   \n",
      "7170  7170     201     205     208     209     214     216     218     223   \n",
      "7171  7171     173     174     173     174     173     173     175     175   \n",
      "\n",
      "      pixel9  ...  pixel775  pixel776  pixel777  pixel778  pixel779  pixel780  \\\n",
      "0        151  ...       138       148       127        89        82        96   \n",
      "1        136  ...        47       104       194       183       186       184   \n",
      "2        147  ...        68       166       242       227       230       227   \n",
      "3        210  ...       154       248       247       248       253       236   \n",
      "4        203  ...        26        40        64        48        29        46   \n",
      "...      ...  ...       ...       ...       ...       ...       ...       ...   \n",
      "7167     121  ...       108       112       116       114       118       180   \n",
      "7168     175  ...       213       213       213       214       213       211   \n",
      "7169     191  ...       216       215       213       214       214       213   \n",
      "7170     226  ...       112       169       255       255       237       113   \n",
      "7171     174  ...       201       200       197       198       198       197   \n",
      "\n",
      "      pixel781  pixel782  pixel783  pixel784  \n",
      "0          106       112       120       107  \n",
      "1          184       184       182       180  \n",
      "2          226       225       224       222  \n",
      "3          230       240       253       255  \n",
      "4           49        46        46        53  \n",
      "...        ...       ...       ...       ...  \n",
      "7167       184       176       167       163  \n",
      "7168       210       210       209       208  \n",
      "7169       210       211       209       208  \n",
      "7170        91        67        70        63  \n",
      "7171       195       195       193       192  \n",
      "\n",
      "[7172 rows x 785 columns]\n"
     ]
    }
   ],
   "source": [
    "test_df=pd.read_csv('/kaggle/input/ai-foundations-sign-language-detection/test.csv')\n",
    "print(test_df)"
   ]
  },
  {
   "cell_type": "code",
   "execution_count": 14,
   "id": "db2b8519",
   "metadata": {
    "execution": {
     "iopub.execute_input": "2024-12-14T08:43:24.385353Z",
     "iopub.status.busy": "2024-12-14T08:43:24.384946Z",
     "iopub.status.idle": "2024-12-14T08:43:24.392109Z",
     "shell.execute_reply": "2024-12-14T08:43:24.390971Z"
    },
    "papermill": {
     "duration": 0.366361,
     "end_time": "2024-12-14T08:43:24.394193",
     "exception": false,
     "start_time": "2024-12-14T08:43:24.027832",
     "status": "completed"
    },
    "tags": []
   },
   "outputs": [
    {
     "name": "stdout",
     "output_type": "stream",
     "text": [
      "[[149 149 150 ... 112 120 107]\n",
      " [126 128 131 ... 184 182 180]\n",
      " [ 85  88  92 ... 225 224 222]\n",
      " ...\n",
      " [190 191 190 ... 211 209 208]\n",
      " [201 205 208 ...  67  70  63]\n",
      " [173 174 173 ... 195 193 192]] (7172, 784)\n"
     ]
    }
   ],
   "source": [
    "X_test=test_df.iloc[:,1:785].to_numpy()\n",
    "print(X_test,X_test.shape)\n",
    "X_test=X_test.reshape(7172,28,28,1)\n"
   ]
  },
  {
   "cell_type": "code",
   "execution_count": 15,
   "id": "e22084ee",
   "metadata": {
    "execution": {
     "iopub.execute_input": "2024-12-14T08:43:25.168208Z",
     "iopub.status.busy": "2024-12-14T08:43:25.167529Z",
     "iopub.status.idle": "2024-12-14T08:43:25.195837Z",
     "shell.execute_reply": "2024-12-14T08:43:25.194456Z"
    },
    "papermill": {
     "duration": 0.446214,
     "end_time": "2024-12-14T08:43:25.198361",
     "exception": false,
     "start_time": "2024-12-14T08:43:24.752147",
     "status": "completed"
    },
    "tags": []
   },
   "outputs": [
    {
     "name": "stdout",
     "output_type": "stream",
     "text": [
      "(7172, 28, 28, 1)\n"
     ]
    }
   ],
   "source": [
    "X_test=X_test/255.0\n",
    "print(X_test.shape)"
   ]
  },
  {
   "cell_type": "code",
   "execution_count": 16,
   "id": "64b4e423",
   "metadata": {
    "execution": {
     "iopub.execute_input": "2024-12-14T08:43:25.908413Z",
     "iopub.status.busy": "2024-12-14T08:43:25.907763Z",
     "iopub.status.idle": "2024-12-14T08:43:27.649260Z",
     "shell.execute_reply": "2024-12-14T08:43:27.647986Z"
    },
    "papermill": {
     "duration": 2.09862,
     "end_time": "2024-12-14T08:43:27.652489",
     "exception": false,
     "start_time": "2024-12-14T08:43:25.553869",
     "status": "completed"
    },
    "tags": []
   },
   "outputs": [
    {
     "name": "stdout",
     "output_type": "stream",
     "text": [
      "\u001b[1m225/225\u001b[0m \u001b[32m━━━━━━━━━━━━━━━━━━━━\u001b[0m\u001b[37m\u001b[0m \u001b[1m2s\u001b[0m 6ms/step\n"
     ]
    }
   ],
   "source": [
    "y_pred_prob=model.predict(X_test)\n",
    "y_pred=np.argmax(y_pred_prob,axis=1)"
   ]
  },
  {
   "cell_type": "code",
   "execution_count": 17,
   "id": "81b61d23",
   "metadata": {
    "execution": {
     "iopub.execute_input": "2024-12-14T08:43:28.487548Z",
     "iopub.status.busy": "2024-12-14T08:43:28.487144Z",
     "iopub.status.idle": "2024-12-14T08:43:28.493206Z",
     "shell.execute_reply": "2024-12-14T08:43:28.491880Z"
    },
    "papermill": {
     "duration": 0.437404,
     "end_time": "2024-12-14T08:43:28.495977",
     "exception": false,
     "start_time": "2024-12-14T08:43:28.058573",
     "status": "completed"
    },
    "tags": []
   },
   "outputs": [
    {
     "name": "stdout",
     "output_type": "stream",
     "text": [
      "[ 6  5 10 ...  2  4  2]\n"
     ]
    }
   ],
   "source": [
    "print(y_pred)"
   ]
  },
  {
   "cell_type": "code",
   "execution_count": 18,
   "id": "27e5fdda",
   "metadata": {
    "execution": {
     "iopub.execute_input": "2024-12-14T08:43:29.221954Z",
     "iopub.status.busy": "2024-12-14T08:43:29.221378Z",
     "iopub.status.idle": "2024-12-14T08:43:29.227019Z",
     "shell.execute_reply": "2024-12-14T08:43:29.225925Z"
    },
    "papermill": {
     "duration": 0.370632,
     "end_time": "2024-12-14T08:43:29.229162",
     "exception": false,
     "start_time": "2024-12-14T08:43:28.858530",
     "status": "completed"
    },
    "tags": []
   },
   "outputs": [],
   "source": [
    "id=np.array(test_df['id'])\n"
   ]
  },
  {
   "cell_type": "code",
   "execution_count": 19,
   "id": "e59ccd94",
   "metadata": {
    "execution": {
     "iopub.execute_input": "2024-12-14T08:43:29.941175Z",
     "iopub.status.busy": "2024-12-14T08:43:29.940727Z",
     "iopub.status.idle": "2024-12-14T08:43:29.957033Z",
     "shell.execute_reply": "2024-12-14T08:43:29.955846Z"
    },
    "papermill": {
     "duration": 0.377914,
     "end_time": "2024-12-14T08:43:29.959390",
     "exception": false,
     "start_time": "2024-12-14T08:43:29.581476",
     "status": "completed"
    },
    "tags": []
   },
   "outputs": [
    {
     "data": {
      "text/html": [
       "<div>\n",
       "<style scoped>\n",
       "    .dataframe tbody tr th:only-of-type {\n",
       "        vertical-align: middle;\n",
       "    }\n",
       "\n",
       "    .dataframe tbody tr th {\n",
       "        vertical-align: top;\n",
       "    }\n",
       "\n",
       "    .dataframe thead th {\n",
       "        text-align: right;\n",
       "    }\n",
       "</style>\n",
       "<table border=\"1\" class=\"dataframe\">\n",
       "  <thead>\n",
       "    <tr style=\"text-align: right;\">\n",
       "      <th></th>\n",
       "      <th>id</th>\n",
       "      <th>label</th>\n",
       "    </tr>\n",
       "  </thead>\n",
       "  <tbody>\n",
       "    <tr>\n",
       "      <th>0</th>\n",
       "      <td>0</td>\n",
       "      <td>6</td>\n",
       "    </tr>\n",
       "    <tr>\n",
       "      <th>1</th>\n",
       "      <td>1</td>\n",
       "      <td>5</td>\n",
       "    </tr>\n",
       "    <tr>\n",
       "      <th>2</th>\n",
       "      <td>2</td>\n",
       "      <td>10</td>\n",
       "    </tr>\n",
       "    <tr>\n",
       "      <th>3</th>\n",
       "      <td>3</td>\n",
       "      <td>0</td>\n",
       "    </tr>\n",
       "    <tr>\n",
       "      <th>4</th>\n",
       "      <td>4</td>\n",
       "      <td>3</td>\n",
       "    </tr>\n",
       "    <tr>\n",
       "      <th>...</th>\n",
       "      <td>...</td>\n",
       "      <td>...</td>\n",
       "    </tr>\n",
       "    <tr>\n",
       "      <th>7167</th>\n",
       "      <td>7167</td>\n",
       "      <td>1</td>\n",
       "    </tr>\n",
       "    <tr>\n",
       "      <th>7168</th>\n",
       "      <td>7168</td>\n",
       "      <td>12</td>\n",
       "    </tr>\n",
       "    <tr>\n",
       "      <th>7169</th>\n",
       "      <td>7169</td>\n",
       "      <td>2</td>\n",
       "    </tr>\n",
       "    <tr>\n",
       "      <th>7170</th>\n",
       "      <td>7170</td>\n",
       "      <td>4</td>\n",
       "    </tr>\n",
       "    <tr>\n",
       "      <th>7171</th>\n",
       "      <td>7171</td>\n",
       "      <td>2</td>\n",
       "    </tr>\n",
       "  </tbody>\n",
       "</table>\n",
       "<p>7172 rows × 2 columns</p>\n",
       "</div>"
      ],
      "text/plain": [
       "        id  label\n",
       "0        0      6\n",
       "1        1      5\n",
       "2        2     10\n",
       "3        3      0\n",
       "4        4      3\n",
       "...    ...    ...\n",
       "7167  7167      1\n",
       "7168  7168     12\n",
       "7169  7169      2\n",
       "7170  7170      4\n",
       "7171  7171      2\n",
       "\n",
       "[7172 rows x 2 columns]"
      ]
     },
     "execution_count": 19,
     "metadata": {},
     "output_type": "execute_result"
    }
   ],
   "source": [
    "result={\n",
    "    \"id\":id,\n",
    "     \"label\":y_pred\n",
    "}\n",
    "final_result=pd.DataFrame(result)\n",
    "final_result"
   ]
  },
  {
   "cell_type": "code",
   "execution_count": 20,
   "id": "f0ee6dcd",
   "metadata": {
    "execution": {
     "iopub.execute_input": "2024-12-14T08:43:30.759272Z",
     "iopub.status.busy": "2024-12-14T08:43:30.758861Z",
     "iopub.status.idle": "2024-12-14T08:43:30.773190Z",
     "shell.execute_reply": "2024-12-14T08:43:30.771985Z"
    },
    "papermill": {
     "duration": 0.38607,
     "end_time": "2024-12-14T08:43:30.776083",
     "exception": false,
     "start_time": "2024-12-14T08:43:30.390013",
     "status": "completed"
    },
    "tags": []
   },
   "outputs": [],
   "source": [
    "final_result.to_csv('sign_language7.csv',index=False)"
   ]
  },
  {
   "cell_type": "code",
   "execution_count": 21,
   "id": "1bc99519",
   "metadata": {
    "execution": {
     "iopub.execute_input": "2024-12-14T08:43:31.496960Z",
     "iopub.status.busy": "2024-12-14T08:43:31.495630Z",
     "iopub.status.idle": "2024-12-14T08:43:31.503817Z",
     "shell.execute_reply": "2024-12-14T08:43:31.502718Z"
    },
    "papermill": {
     "duration": 0.369398,
     "end_time": "2024-12-14T08:43:31.506360",
     "exception": false,
     "start_time": "2024-12-14T08:43:31.136962",
     "status": "completed"
    },
    "tags": []
   },
   "outputs": [
    {
     "data": {
      "text/html": [
       "Path (<tt>/kaggle/working/sign_language.csv</tt>) doesn't exist. It may still be in the process of being generated, or you may have the incorrect path."
      ],
      "text/plain": [
       "/kaggle/working/sign_language.csv"
      ]
     },
     "execution_count": 21,
     "metadata": {},
     "output_type": "execute_result"
    }
   ],
   "source": [
    "from IPython.display import FileLink\n",
    "FileLink('/kaggle/working/sign_language.csv')\n"
   ]
  },
  {
   "cell_type": "code",
   "execution_count": null,
   "id": "2e649e07",
   "metadata": {
    "papermill": {
     "duration": 0.433008,
     "end_time": "2024-12-14T08:43:32.299298",
     "exception": false,
     "start_time": "2024-12-14T08:43:31.866290",
     "status": "completed"
    },
    "tags": []
   },
   "outputs": [],
   "source": []
  }
 ],
 "metadata": {
  "kaggle": {
   "accelerator": "none",
   "dataSources": [
    {
     "databundleVersionId": 10453422,
     "sourceId": 90129,
     "sourceType": "competition"
    }
   ],
   "dockerImageVersionId": 30804,
   "isGpuEnabled": false,
   "isInternetEnabled": false,
   "language": "python",
   "sourceType": "notebook"
  },
  "kernelspec": {
   "display_name": "Python 3",
   "language": "python",
   "name": "python3"
  },
  "language_info": {
   "codemirror_mode": {
    "name": "ipython",
    "version": 3
   },
   "file_extension": ".py",
   "mimetype": "text/x-python",
   "name": "python",
   "nbconvert_exporter": "python",
   "pygments_lexer": "ipython3",
   "version": "3.10.14"
  },
  "papermill": {
   "default_parameters": {},
   "duration": 430.598509,
   "end_time": "2024-12-14T08:43:34.315684",
   "environment_variables": {},
   "exception": null,
   "input_path": "__notebook__.ipynb",
   "output_path": "__notebook__.ipynb",
   "parameters": {},
   "start_time": "2024-12-14T08:36:23.717175",
   "version": "2.6.0"
  }
 },
 "nbformat": 4,
 "nbformat_minor": 5
}
